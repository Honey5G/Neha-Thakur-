{
  "nbformat": 4,
  "nbformat_minor": 0,
  "metadata": {
    "colab": {
      "provenance": []
    },
    "kernelspec": {
      "name": "python3",
      "display_name": "Python 3"
    },
    "language_info": {
      "name": "python"
    }
  },
  "cells": [
    {
      "cell_type": "markdown",
      "source": [
        "Assignment Code: DA-AG-010 *"
      ],
      "metadata": {
        "id": "pmXP74VTUje8"
      }
    },
    {
      "cell_type": "markdown",
      "source": [
        "Regression & Its Evaluation | Assignment"
      ],
      "metadata": {
        "id": "8mGR0HDwUxN7"
      }
    },
    {
      "cell_type": "markdown",
      "source": [
        "Ques.1 What is Simple Linear Regression?"
      ],
      "metadata": {
        "id": "L7pNI02mUykM"
      }
    },
    {
      "cell_type": "markdown",
      "source": [
        "Ans:1"
      ],
      "metadata": {
        "id": "qq9WYeeWU3Wf"
      }
    },
    {
      "cell_type": "markdown",
      "metadata": {
        "id": "d0af1d29"
      },
      "source": [
        "Simple Linear Regression is a statistical method used to model the relationship between two continuous variables. It assumes a linear relationship between the independent variable (predictor) and the dependent variable (response). The goal is to find the best-fitting straight line that describes how the dependent variable changes as the independent variable changes. The equation for simple linear regression is typically represented as:\n",
        "\n",
        "$y = \\beta_0 + \\beta_1 x + \\epsilon$\n",
        "\n",
        "Where:\n",
        "- $y$ is the dependent variable\n",
        "- $x$ is the independent variable\n",
        "- $\\beta_0$ is the y-intercept (the value of y when x is 0)\n",
        "- $\\beta_1$ is the slope (the change in y for a one-unit change in x)\n",
        "- $\\epsilon$ is the error term (the difference between the observed value of y and the value predicted by the line)\n",
        "\n",
        "The method of Ordinary Least Squares (OLS) is commonly used to estimate the values of $\\beta_0$ and $\\beta_1$ by minimizing the sum of the squared differences between the observed and predicted values of y."
      ]
    },
    {
      "cell_type": "markdown",
      "source": [
        "Ques.2 What are the key assumptions of Simple Linear Regression?"
      ],
      "metadata": {
        "id": "9_Cf0lmKU9Wo"
      }
    },
    {
      "cell_type": "markdown",
      "source": [
        "Ans:2"
      ],
      "metadata": {
        "id": "8yn6syz2VEZp"
      }
    },
    {
      "cell_type": "markdown",
      "metadata": {
        "id": "99a02866"
      },
      "source": [
        "The key assumptions of Simple Linear Regression are:\n",
        "\n",
        "1. **Linearity**: The relationship between the independent variable (x) and the dependent variable (y) is linear. This means the data points should generally fall along a straight line.\n",
        "2. **Independence of Errors**: The errors (residuals) are independent of each other. There is no correlation between consecutive errors.\n",
        "3. **Homoscedasticity**: The variance of the errors is constant across all levels of the independent variable. This means the spread of the residuals should be roughly the same across the range of the predictor.\n",
        "4. **Normality of Errors**: The errors are normally distributed. This assumption is less critical for large sample sizes but is important for hypothesis testing and confidence intervals.\n",
        "5. **No multicollinearity**: For multiple linear regression, the independent variables should not be highly correlated with each other. (While this is for multiple linear regression, it's often mentioned in the context of regression assumptions)."
      ]
    },
    {
      "cell_type": "markdown",
      "source": [
        "Ques.3 : What is heteroscedasticity, and why is it important to address in regression models?"
      ],
      "metadata": {
        "id": "HbnFt5dSVHEA"
      }
    },
    {
      "cell_type": "markdown",
      "source": [
        "Ans:3"
      ],
      "metadata": {
        "id": "inWt-JxiYVWD"
      }
    },
    {
      "cell_type": "markdown",
      "metadata": {
        "id": "0bebd3f2"
      },
      "source": [
        "**Heteroscedasticity** occurs when the variance of the errors (residuals) is not constant across all levels of the independent variable. In other words, the spread of the residuals changes as the value of the predictor variable changes. This violates the homoscedasticity assumption of linear regression.\n",
        "\n",
        "**Why is it important to address in regression models?**\n",
        "\n",
        "Heteroscedasticity doesn't bias the estimated coefficients (the $\\beta_0$ and $\\beta_1$ values), but it does affect their standard errors. This has several important implications:\n",
        "\n",
        "*   **Incorrect Standard Errors**: The standard errors of the coefficients will be incorrect. If the variance of the errors increases with the independent variable (common in heteroscedasticity), the standard errors will be underestimated. If the variance decreases, they will be overestimated.\n",
        "*   **Invalid Hypothesis Tests and Confidence Intervals**: Because the standard errors are incorrect, hypothesis tests (like t-tests for significance) and confidence intervals for the coefficients will be invalid. This can lead to incorrect conclusions about the statistical significance of the predictors.\n",
        "*   **Inefficient Estimators**: While the OLS estimators are still unbiased in the presence of heteroscedasticity, they are no longer the most efficient estimators. This means there are other estimation methods that could provide more precise estimates of the coefficients.\n",
        "\n"
      ]
    },
    {
      "cell_type": "markdown",
      "source": [
        "Ques.4 What is Multiple Linear Regression?"
      ],
      "metadata": {
        "id": "wZV7zbvuVcHa"
      }
    },
    {
      "cell_type": "markdown",
      "source": [
        "Ans:4"
      ],
      "metadata": {
        "id": "k0y5C-JZVgde"
      }
    },
    {
      "cell_type": "markdown",
      "metadata": {
        "id": "5fbc956d"
      },
      "source": [
        "**Multiple Linear Regression** is an extension of simple linear regression that is used to model the relationship between a single dependent variable (response) and two or more independent variables (predictors). Like simple linear regression, it assumes a linear relationship between the dependent variable and each of the independent variables.\n",
        "\n",
        "The equation for multiple linear regression is typically represented as:\n",
        "\n",
        "$y = \\beta_0 + \\beta_1 x_1 + \\beta_2 x_2 + ... + \\beta_n x_n + \\epsilon$\n",
        "\n",
        "Where:\n",
        "- $y$ is the dependent variable\n",
        "- $x_1, x_2, ..., x_n$ are the independent variables\n",
        "- $\\beta_0$ is the y-intercept\n",
        "- $\\beta_1, \\beta_2, ..., \\beta_n$ are the coefficients for each independent variable, representing the change in y for a one-unit change in the corresponding $x$ variable, holding all other independent variables constant.\n",
        "- $\\epsilon$ is the error term\n",
        "\n",
        "The goal of multiple linear regression is to find the values of the coefficients ($\\beta_0, \\beta_1, ..., \\beta_n$) that best fit the data, typically using the method of Ordinary Least Squares (OLS). This involves minimizing the sum of the squared differences between the observed values of y and the values predicted by the model.\n",
        "\n",
        "Multiple linear regression allows us to assess the individual contribution of each independent variable to the prediction of the dependent variable, while controlling for the effects of the other independent variables in the model. It's a powerful tool for understanding complex relationships between multiple factors and an outcome."
      ]
    },
    {
      "cell_type": "markdown",
      "source": [
        "Ques.5 What is polynomial regression, and how does it differ   from linear regression?"
      ],
      "metadata": {
        "id": "-KFrWIa4Vn-V"
      }
    },
    {
      "cell_type": "markdown",
      "source": [
        "Ans:5"
      ],
      "metadata": {
        "id": "sb1xcVGgV1eZ"
      }
    },
    {
      "cell_type": "markdown",
      "metadata": {
        "id": "f8ae010c"
      },
      "source": [
        "**Polynomial Regression** is a form of regression analysis in which the relationship between the independent variable ($x$) and the dependent variable ($y$) is modeled as an nth degree polynomial. While it models a non-linear relationship, it is still considered a form of linear regression in terms of how the coefficients are estimated (because the model is linear in the coefficients).\n",
        "\n",
        "The equation for polynomial regression with a single independent variable is typically represented as:\n",
        "\n",
        "$y = \\beta_0 + \\beta_1 x + \\beta_2 x^2 + ... + \\beta_n x^n + \\epsilon$\n",
        "\n",
        "Where:\n",
        "- $y$ is the dependent variable\n",
        "- $x$ is the independent variable\n",
        "- $\\beta_0, \\beta_1, ..., \\beta_n$ are the coefficients\n",
        "- $n$ is the degree of the polynomial\n",
        "- $\\epsilon$ is the error term\n",
        "\n",
        "**How does it differ from Linear Regression?**\n",
        "\n",
        "The key difference lies in the nature of the relationship being modeled:\n",
        "\n",
        "*   **Linear Regression**: Models a strictly linear relationship between the independent and dependent variables. The relationship can be represented by a straight line.\n",
        "*   **Polynomial Regression**: Models a non-linear relationship by including polynomial terms (e.g., $x^2$, $x^3$) of the independent variable. This allows the model to capture curves and bends in the data that cannot be represented by a straight line.\n",
        "\n",
        "Although polynomial regression models a non-linear relationship between the variables, it is still considered a form of *linear* regression because the model is linear in the coefficients ($\\beta$ values). The estimation method (like Ordinary Least Squares) is the same as in linear regression. The non-linearity comes from the transformation of the independent variable.\n",
        "\n",
        "In essence, polynomial regression provides a way to fit a curvilinear relationship within the framework of linear regression by transforming the predictor variables."
      ]
    },
    {
      "cell_type": "markdown",
      "source": [
        "Ques.6 Implement a Python program to fit a Simple Linear Regression model to the following sample data:\n",
        "● X = [1, 2, 3, 4, 5]\n",
        "● Y = [2.1, 4.3, 6.1, 7.9, 10.2]"
      ],
      "metadata": {
        "id": "G9FkGCirWA42"
      }
    },
    {
      "cell_type": "markdown",
      "source": [
        "Ans:6"
      ],
      "metadata": {
        "id": "Z28TsNuUWI1_"
      }
    },
    {
      "cell_type": "code",
      "metadata": {
        "colab": {
          "base_uri": "https://localhost:8080/"
        },
        "id": "cfcebde9",
        "outputId": "0920cb24-c524-4f82-f5f8-d456935ea055"
      },
      "source": [
        "import numpy as np\n",
        "from sklearn.linear_model import LinearRegression\n",
        "\n",
        "# Sample data\n",
        "X = np.array([1, 2, 3, 4, 5]).reshape(-1, 1)  # Reshape X for scikit-learn\n",
        "Y = np.array([2.1, 4.3, 6.1, 7.9, 10.2])\n",
        "\n",
        "# Create a Linear Regression model\n",
        "model = LinearRegression()\n",
        "\n",
        "# Fit the model to the data\n",
        "model.fit(X, Y)\n",
        "\n",
        "# Get the coefficients (slope and intercept)\n",
        "slope = model.coef_[0]\n",
        "intercept = model.intercept_\n",
        "\n",
        "print(f\"Slope (β1): {slope}\")\n",
        "print(f\"Intercept (β0): {intercept}\")\n",
        "\n",
        "# You can also make predictions\n",
        "# predicted_Y = model.predict(X)\n",
        "# print(f\"Predicted Y: {predicted_Y}\")"
      ],
      "execution_count": 1,
      "outputs": [
        {
          "output_type": "stream",
          "name": "stdout",
          "text": [
            "Slope (β1): 1.9800000000000004\n",
            "Intercept (β0): 0.17999999999999794\n"
          ]
        }
      ]
    },
    {
      "cell_type": "markdown",
      "source": [
        "Ques.7 : Fit a Multiple Linear Regression model on this sample data:\n",
        "● Area = [1200, 1500, 1800, 2000]\n",
        "● Rooms = [2, 3, 3, 4]\n",
        "● Price = [250000, 300000, 320000, 370000]"
      ],
      "metadata": {
        "id": "jNEJST7UWyG6"
      }
    },
    {
      "cell_type": "markdown",
      "source": [
        "Ans:7"
      ],
      "metadata": {
        "id": "gN8qVsvFW3XI"
      }
    },
    {
      "cell_type": "code",
      "metadata": {
        "colab": {
          "base_uri": "https://localhost:8080/"
        },
        "id": "8279f0b7",
        "outputId": "ff147e4c-3a34-485a-fa9b-d4cc37423e02"
      },
      "source": [
        "import numpy as np\n",
        "from sklearn.linear_model import LinearRegression\n",
        "import pandas as pd\n",
        "\n",
        "# Sample data\n",
        "data = {'Area': [1200, 1500, 1800, 2000],\n",
        "        'Rooms': [2, 3, 3, 4],\n",
        "        'Price': [250000, 300000, 320000, 370000]}\n",
        "\n",
        "df = pd.DataFrame(data)\n",
        "\n",
        "X = df[['Area', 'Rooms']]  # Independent variables\n",
        "Y = df['Price']  # Dependent variable\n",
        "\n",
        "# Create a Linear Regression model\n",
        "model = LinearRegression()\n",
        "\n",
        "# Fit the model to the data\n",
        "model.fit(X, Y)\n",
        "\n",
        "# Get the coefficients and intercept\n",
        "coefficients = model.coef_\n",
        "intercept = model.intercept_\n",
        "\n",
        "print(f\"Coefficients (β): {coefficients}\")\n",
        "print(f\"Intercept (β0): {intercept}\")\n",
        "\n",
        "# You can also make predictions\n",
        "# predicted_Price = model.predict(X)\n",
        "# print(f\"Predicted Price: {predicted_Price}\")"
      ],
      "execution_count": 2,
      "outputs": [
        {
          "output_type": "stream",
          "name": "stdout",
          "text": [
            "Coefficients (β): [   63.15789474 34736.84210526]\n",
            "Intercept (β0): 103157.89473684214\n"
          ]
        }
      ]
    },
    {
      "cell_type": "markdown",
      "source": [
        "Ques.8 Implement polynomial regression on the following data:\n",
        "● X = [1, 2, 3, 4, 5]\n",
        "\n",
        "● Y = [2.2, 4.8, 7.5, 11.2, 14.7]"
      ],
      "metadata": {
        "id": "LMe85MwyW9u0"
      }
    },
    {
      "cell_type": "markdown",
      "source": [
        "Ans:8"
      ],
      "metadata": {
        "id": "2cd4lJgiYIH8"
      }
    },
    {
      "cell_type": "code",
      "metadata": {
        "colab": {
          "base_uri": "https://localhost:8080/"
        },
        "id": "90b5f9d9",
        "outputId": "504e832a-6133-4fa8-bc81-4f92bfc9adfd"
      },
      "source": [
        "import numpy as np\n",
        "from sklearn.linear_model import LinearRegression\n",
        "from sklearn.preprocessing import PolynomialFeatures\n",
        "\n",
        "# Sample data\n",
        "X = np.array([1, 2, 3, 4, 5]).reshape(-1, 1)\n",
        "Y = np.array([2.2, 4.8, 7.5, 11.2, 14.7])\n",
        "\n",
        "# Create polynomial features (e.g., degree 2 for a quadratic relationship)\n",
        "degree = 2\n",
        "poly_features = PolynomialFeatures(degree=degree)\n",
        "X_poly = poly_features.fit_transform(X)\n",
        "\n",
        "# Create a Linear Regression model\n",
        "model = LinearRegression()\n",
        "\n",
        "# Fit the model to the polynomial features\n",
        "model.fit(X_poly, Y)\n",
        "\n",
        "# Get the coefficients and intercept\n",
        "coefficients = model.coef_\n",
        "intercept = model.intercept_\n",
        "\n",
        "print(f\"Degree of polynomial: {degree}\")\n",
        "print(f\"Coefficients (β): {coefficients}\")\n",
        "print(f\"Intercept (β0): {intercept}\")\n",
        "\n",
        "# You can also make predictions\n",
        "# predicted_Y = model.predict(X_poly)\n",
        "# print(f\"Predicted Y: {predicted_Y}\")"
      ],
      "execution_count": 3,
      "outputs": [
        {
          "output_type": "stream",
          "name": "stdout",
          "text": [
            "Degree of polynomial: 2\n",
            "Coefficients (β): [0.   1.94 0.2 ]\n",
            "Intercept (β0): 0.06000000000000938\n"
          ]
        }
      ]
    },
    {
      "cell_type": "markdown",
      "source": [
        "Ques.9 Create a residuals plot for a regression model trained on this data:\n",
        "● X = [10, 20, 30, 40, 50]\n",
        "● Y = [15, 35, 40, 50, 65]"
      ],
      "metadata": {
        "id": "JaNJZ-iVXWO4"
      }
    },
    {
      "cell_type": "markdown",
      "source": [
        "Ans:9"
      ],
      "metadata": {
        "id": "bvkxC7EGXdKN"
      }
    },
    {
      "cell_type": "markdown",
      "metadata": {
        "id": "0c9e5cdc"
      },
      "source": [
        "# Task\n",
        "Create a residuals plot for a regression model trained on this data: ● X = [10, 20, 30, 40, 50] ● Y = [15, 35, 40, 50, 65]"
      ]
    },
    {
      "cell_type": "markdown",
      "metadata": {
        "id": "45a27a5b"
      },
      "source": [
        "## Fit a linear regression model\n",
        "\n",
        "### Subtask:\n",
        "Train a simple linear regression model on the given X and Y data.\n"
      ]
    },
    {
      "cell_type": "markdown",
      "metadata": {
        "id": "fc7a5dc8"
      },
      "source": [
        "**Reasoning**:\n",
        "The subtask requires training a simple linear regression model, which involves creating numpy arrays for X and Y, reshaping X, instantiating a LinearRegression model, and fitting the model to the data. These steps can be combined into a single code block.\n",
        "\n"
      ]
    },
    {
      "cell_type": "code",
      "metadata": {
        "colab": {
          "base_uri": "https://localhost:8080/",
          "height": 80
        },
        "id": "a23cb740",
        "outputId": "7dd6a6e5-8a1e-4836-f7a7-faf90ac087c6"
      },
      "source": [
        "import numpy as np\n",
        "from sklearn.linear_model import LinearRegression\n",
        "\n",
        "# Sample data\n",
        "X = np.array([10, 20, 30, 40, 50]).reshape(-1, 1)  # Reshape X for scikit-learn\n",
        "Y = np.array([15, 35, 40, 50, 65])\n",
        "\n",
        "# Create a Linear Regression model\n",
        "model = LinearRegression()\n",
        "\n",
        "# Fit the model to the data\n",
        "model.fit(X, Y)"
      ],
      "execution_count": 4,
      "outputs": [
        {
          "output_type": "execute_result",
          "data": {
            "text/plain": [
              "LinearRegression()"
            ],
            "text/html": [
              "<style>#sk-container-id-1 {\n",
              "  /* Definition of color scheme common for light and dark mode */\n",
              "  --sklearn-color-text: #000;\n",
              "  --sklearn-color-text-muted: #666;\n",
              "  --sklearn-color-line: gray;\n",
              "  /* Definition of color scheme for unfitted estimators */\n",
              "  --sklearn-color-unfitted-level-0: #fff5e6;\n",
              "  --sklearn-color-unfitted-level-1: #f6e4d2;\n",
              "  --sklearn-color-unfitted-level-2: #ffe0b3;\n",
              "  --sklearn-color-unfitted-level-3: chocolate;\n",
              "  /* Definition of color scheme for fitted estimators */\n",
              "  --sklearn-color-fitted-level-0: #f0f8ff;\n",
              "  --sklearn-color-fitted-level-1: #d4ebff;\n",
              "  --sklearn-color-fitted-level-2: #b3dbfd;\n",
              "  --sklearn-color-fitted-level-3: cornflowerblue;\n",
              "\n",
              "  /* Specific color for light theme */\n",
              "  --sklearn-color-text-on-default-background: var(--sg-text-color, var(--theme-code-foreground, var(--jp-content-font-color1, black)));\n",
              "  --sklearn-color-background: var(--sg-background-color, var(--theme-background, var(--jp-layout-color0, white)));\n",
              "  --sklearn-color-border-box: var(--sg-text-color, var(--theme-code-foreground, var(--jp-content-font-color1, black)));\n",
              "  --sklearn-color-icon: #696969;\n",
              "\n",
              "  @media (prefers-color-scheme: dark) {\n",
              "    /* Redefinition of color scheme for dark theme */\n",
              "    --sklearn-color-text-on-default-background: var(--sg-text-color, var(--theme-code-foreground, var(--jp-content-font-color1, white)));\n",
              "    --sklearn-color-background: var(--sg-background-color, var(--theme-background, var(--jp-layout-color0, #111)));\n",
              "    --sklearn-color-border-box: var(--sg-text-color, var(--theme-code-foreground, var(--jp-content-font-color1, white)));\n",
              "    --sklearn-color-icon: #878787;\n",
              "  }\n",
              "}\n",
              "\n",
              "#sk-container-id-1 {\n",
              "  color: var(--sklearn-color-text);\n",
              "}\n",
              "\n",
              "#sk-container-id-1 pre {\n",
              "  padding: 0;\n",
              "}\n",
              "\n",
              "#sk-container-id-1 input.sk-hidden--visually {\n",
              "  border: 0;\n",
              "  clip: rect(1px 1px 1px 1px);\n",
              "  clip: rect(1px, 1px, 1px, 1px);\n",
              "  height: 1px;\n",
              "  margin: -1px;\n",
              "  overflow: hidden;\n",
              "  padding: 0;\n",
              "  position: absolute;\n",
              "  width: 1px;\n",
              "}\n",
              "\n",
              "#sk-container-id-1 div.sk-dashed-wrapped {\n",
              "  border: 1px dashed var(--sklearn-color-line);\n",
              "  margin: 0 0.4em 0.5em 0.4em;\n",
              "  box-sizing: border-box;\n",
              "  padding-bottom: 0.4em;\n",
              "  background-color: var(--sklearn-color-background);\n",
              "}\n",
              "\n",
              "#sk-container-id-1 div.sk-container {\n",
              "  /* jupyter's `normalize.less` sets `[hidden] { display: none; }`\n",
              "     but bootstrap.min.css set `[hidden] { display: none !important; }`\n",
              "     so we also need the `!important` here to be able to override the\n",
              "     default hidden behavior on the sphinx rendered scikit-learn.org.\n",
              "     See: https://github.com/scikit-learn/scikit-learn/issues/21755 */\n",
              "  display: inline-block !important;\n",
              "  position: relative;\n",
              "}\n",
              "\n",
              "#sk-container-id-1 div.sk-text-repr-fallback {\n",
              "  display: none;\n",
              "}\n",
              "\n",
              "div.sk-parallel-item,\n",
              "div.sk-serial,\n",
              "div.sk-item {\n",
              "  /* draw centered vertical line to link estimators */\n",
              "  background-image: linear-gradient(var(--sklearn-color-text-on-default-background), var(--sklearn-color-text-on-default-background));\n",
              "  background-size: 2px 100%;\n",
              "  background-repeat: no-repeat;\n",
              "  background-position: center center;\n",
              "}\n",
              "\n",
              "/* Parallel-specific style estimator block */\n",
              "\n",
              "#sk-container-id-1 div.sk-parallel-item::after {\n",
              "  content: \"\";\n",
              "  width: 100%;\n",
              "  border-bottom: 2px solid var(--sklearn-color-text-on-default-background);\n",
              "  flex-grow: 1;\n",
              "}\n",
              "\n",
              "#sk-container-id-1 div.sk-parallel {\n",
              "  display: flex;\n",
              "  align-items: stretch;\n",
              "  justify-content: center;\n",
              "  background-color: var(--sklearn-color-background);\n",
              "  position: relative;\n",
              "}\n",
              "\n",
              "#sk-container-id-1 div.sk-parallel-item {\n",
              "  display: flex;\n",
              "  flex-direction: column;\n",
              "}\n",
              "\n",
              "#sk-container-id-1 div.sk-parallel-item:first-child::after {\n",
              "  align-self: flex-end;\n",
              "  width: 50%;\n",
              "}\n",
              "\n",
              "#sk-container-id-1 div.sk-parallel-item:last-child::after {\n",
              "  align-self: flex-start;\n",
              "  width: 50%;\n",
              "}\n",
              "\n",
              "#sk-container-id-1 div.sk-parallel-item:only-child::after {\n",
              "  width: 0;\n",
              "}\n",
              "\n",
              "/* Serial-specific style estimator block */\n",
              "\n",
              "#sk-container-id-1 div.sk-serial {\n",
              "  display: flex;\n",
              "  flex-direction: column;\n",
              "  align-items: center;\n",
              "  background-color: var(--sklearn-color-background);\n",
              "  padding-right: 1em;\n",
              "  padding-left: 1em;\n",
              "}\n",
              "\n",
              "\n",
              "/* Toggleable style: style used for estimator/Pipeline/ColumnTransformer box that is\n",
              "clickable and can be expanded/collapsed.\n",
              "- Pipeline and ColumnTransformer use this feature and define the default style\n",
              "- Estimators will overwrite some part of the style using the `sk-estimator` class\n",
              "*/\n",
              "\n",
              "/* Pipeline and ColumnTransformer style (default) */\n",
              "\n",
              "#sk-container-id-1 div.sk-toggleable {\n",
              "  /* Default theme specific background. It is overwritten whether we have a\n",
              "  specific estimator or a Pipeline/ColumnTransformer */\n",
              "  background-color: var(--sklearn-color-background);\n",
              "}\n",
              "\n",
              "/* Toggleable label */\n",
              "#sk-container-id-1 label.sk-toggleable__label {\n",
              "  cursor: pointer;\n",
              "  display: flex;\n",
              "  width: 100%;\n",
              "  margin-bottom: 0;\n",
              "  padding: 0.5em;\n",
              "  box-sizing: border-box;\n",
              "  text-align: center;\n",
              "  align-items: start;\n",
              "  justify-content: space-between;\n",
              "  gap: 0.5em;\n",
              "}\n",
              "\n",
              "#sk-container-id-1 label.sk-toggleable__label .caption {\n",
              "  font-size: 0.6rem;\n",
              "  font-weight: lighter;\n",
              "  color: var(--sklearn-color-text-muted);\n",
              "}\n",
              "\n",
              "#sk-container-id-1 label.sk-toggleable__label-arrow:before {\n",
              "  /* Arrow on the left of the label */\n",
              "  content: \"▸\";\n",
              "  float: left;\n",
              "  margin-right: 0.25em;\n",
              "  color: var(--sklearn-color-icon);\n",
              "}\n",
              "\n",
              "#sk-container-id-1 label.sk-toggleable__label-arrow:hover:before {\n",
              "  color: var(--sklearn-color-text);\n",
              "}\n",
              "\n",
              "/* Toggleable content - dropdown */\n",
              "\n",
              "#sk-container-id-1 div.sk-toggleable__content {\n",
              "  max-height: 0;\n",
              "  max-width: 0;\n",
              "  overflow: hidden;\n",
              "  text-align: left;\n",
              "  /* unfitted */\n",
              "  background-color: var(--sklearn-color-unfitted-level-0);\n",
              "}\n",
              "\n",
              "#sk-container-id-1 div.sk-toggleable__content.fitted {\n",
              "  /* fitted */\n",
              "  background-color: var(--sklearn-color-fitted-level-0);\n",
              "}\n",
              "\n",
              "#sk-container-id-1 div.sk-toggleable__content pre {\n",
              "  margin: 0.2em;\n",
              "  border-radius: 0.25em;\n",
              "  color: var(--sklearn-color-text);\n",
              "  /* unfitted */\n",
              "  background-color: var(--sklearn-color-unfitted-level-0);\n",
              "}\n",
              "\n",
              "#sk-container-id-1 div.sk-toggleable__content.fitted pre {\n",
              "  /* unfitted */\n",
              "  background-color: var(--sklearn-color-fitted-level-0);\n",
              "}\n",
              "\n",
              "#sk-container-id-1 input.sk-toggleable__control:checked~div.sk-toggleable__content {\n",
              "  /* Expand drop-down */\n",
              "  max-height: 200px;\n",
              "  max-width: 100%;\n",
              "  overflow: auto;\n",
              "}\n",
              "\n",
              "#sk-container-id-1 input.sk-toggleable__control:checked~label.sk-toggleable__label-arrow:before {\n",
              "  content: \"▾\";\n",
              "}\n",
              "\n",
              "/* Pipeline/ColumnTransformer-specific style */\n",
              "\n",
              "#sk-container-id-1 div.sk-label input.sk-toggleable__control:checked~label.sk-toggleable__label {\n",
              "  color: var(--sklearn-color-text);\n",
              "  background-color: var(--sklearn-color-unfitted-level-2);\n",
              "}\n",
              "\n",
              "#sk-container-id-1 div.sk-label.fitted input.sk-toggleable__control:checked~label.sk-toggleable__label {\n",
              "  background-color: var(--sklearn-color-fitted-level-2);\n",
              "}\n",
              "\n",
              "/* Estimator-specific style */\n",
              "\n",
              "/* Colorize estimator box */\n",
              "#sk-container-id-1 div.sk-estimator input.sk-toggleable__control:checked~label.sk-toggleable__label {\n",
              "  /* unfitted */\n",
              "  background-color: var(--sklearn-color-unfitted-level-2);\n",
              "}\n",
              "\n",
              "#sk-container-id-1 div.sk-estimator.fitted input.sk-toggleable__control:checked~label.sk-toggleable__label {\n",
              "  /* fitted */\n",
              "  background-color: var(--sklearn-color-fitted-level-2);\n",
              "}\n",
              "\n",
              "#sk-container-id-1 div.sk-label label.sk-toggleable__label,\n",
              "#sk-container-id-1 div.sk-label label {\n",
              "  /* The background is the default theme color */\n",
              "  color: var(--sklearn-color-text-on-default-background);\n",
              "}\n",
              "\n",
              "/* On hover, darken the color of the background */\n",
              "#sk-container-id-1 div.sk-label:hover label.sk-toggleable__label {\n",
              "  color: var(--sklearn-color-text);\n",
              "  background-color: var(--sklearn-color-unfitted-level-2);\n",
              "}\n",
              "\n",
              "/* Label box, darken color on hover, fitted */\n",
              "#sk-container-id-1 div.sk-label.fitted:hover label.sk-toggleable__label.fitted {\n",
              "  color: var(--sklearn-color-text);\n",
              "  background-color: var(--sklearn-color-fitted-level-2);\n",
              "}\n",
              "\n",
              "/* Estimator label */\n",
              "\n",
              "#sk-container-id-1 div.sk-label label {\n",
              "  font-family: monospace;\n",
              "  font-weight: bold;\n",
              "  display: inline-block;\n",
              "  line-height: 1.2em;\n",
              "}\n",
              "\n",
              "#sk-container-id-1 div.sk-label-container {\n",
              "  text-align: center;\n",
              "}\n",
              "\n",
              "/* Estimator-specific */\n",
              "#sk-container-id-1 div.sk-estimator {\n",
              "  font-family: monospace;\n",
              "  border: 1px dotted var(--sklearn-color-border-box);\n",
              "  border-radius: 0.25em;\n",
              "  box-sizing: border-box;\n",
              "  margin-bottom: 0.5em;\n",
              "  /* unfitted */\n",
              "  background-color: var(--sklearn-color-unfitted-level-0);\n",
              "}\n",
              "\n",
              "#sk-container-id-1 div.sk-estimator.fitted {\n",
              "  /* fitted */\n",
              "  background-color: var(--sklearn-color-fitted-level-0);\n",
              "}\n",
              "\n",
              "/* on hover */\n",
              "#sk-container-id-1 div.sk-estimator:hover {\n",
              "  /* unfitted */\n",
              "  background-color: var(--sklearn-color-unfitted-level-2);\n",
              "}\n",
              "\n",
              "#sk-container-id-1 div.sk-estimator.fitted:hover {\n",
              "  /* fitted */\n",
              "  background-color: var(--sklearn-color-fitted-level-2);\n",
              "}\n",
              "\n",
              "/* Specification for estimator info (e.g. \"i\" and \"?\") */\n",
              "\n",
              "/* Common style for \"i\" and \"?\" */\n",
              "\n",
              ".sk-estimator-doc-link,\n",
              "a:link.sk-estimator-doc-link,\n",
              "a:visited.sk-estimator-doc-link {\n",
              "  float: right;\n",
              "  font-size: smaller;\n",
              "  line-height: 1em;\n",
              "  font-family: monospace;\n",
              "  background-color: var(--sklearn-color-background);\n",
              "  border-radius: 1em;\n",
              "  height: 1em;\n",
              "  width: 1em;\n",
              "  text-decoration: none !important;\n",
              "  margin-left: 0.5em;\n",
              "  text-align: center;\n",
              "  /* unfitted */\n",
              "  border: var(--sklearn-color-unfitted-level-1) 1pt solid;\n",
              "  color: var(--sklearn-color-unfitted-level-1);\n",
              "}\n",
              "\n",
              ".sk-estimator-doc-link.fitted,\n",
              "a:link.sk-estimator-doc-link.fitted,\n",
              "a:visited.sk-estimator-doc-link.fitted {\n",
              "  /* fitted */\n",
              "  border: var(--sklearn-color-fitted-level-1) 1pt solid;\n",
              "  color: var(--sklearn-color-fitted-level-1);\n",
              "}\n",
              "\n",
              "/* On hover */\n",
              "div.sk-estimator:hover .sk-estimator-doc-link:hover,\n",
              ".sk-estimator-doc-link:hover,\n",
              "div.sk-label-container:hover .sk-estimator-doc-link:hover,\n",
              ".sk-estimator-doc-link:hover {\n",
              "  /* unfitted */\n",
              "  background-color: var(--sklearn-color-unfitted-level-3);\n",
              "  color: var(--sklearn-color-background);\n",
              "  text-decoration: none;\n",
              "}\n",
              "\n",
              "div.sk-estimator.fitted:hover .sk-estimator-doc-link.fitted:hover,\n",
              ".sk-estimator-doc-link.fitted:hover,\n",
              "div.sk-label-container:hover .sk-estimator-doc-link.fitted:hover,\n",
              ".sk-estimator-doc-link.fitted:hover {\n",
              "  /* fitted */\n",
              "  background-color: var(--sklearn-color-fitted-level-3);\n",
              "  color: var(--sklearn-color-background);\n",
              "  text-decoration: none;\n",
              "}\n",
              "\n",
              "/* Span, style for the box shown on hovering the info icon */\n",
              ".sk-estimator-doc-link span {\n",
              "  display: none;\n",
              "  z-index: 9999;\n",
              "  position: relative;\n",
              "  font-weight: normal;\n",
              "  right: .2ex;\n",
              "  padding: .5ex;\n",
              "  margin: .5ex;\n",
              "  width: min-content;\n",
              "  min-width: 20ex;\n",
              "  max-width: 50ex;\n",
              "  color: var(--sklearn-color-text);\n",
              "  box-shadow: 2pt 2pt 4pt #999;\n",
              "  /* unfitted */\n",
              "  background: var(--sklearn-color-unfitted-level-0);\n",
              "  border: .5pt solid var(--sklearn-color-unfitted-level-3);\n",
              "}\n",
              "\n",
              ".sk-estimator-doc-link.fitted span {\n",
              "  /* fitted */\n",
              "  background: var(--sklearn-color-fitted-level-0);\n",
              "  border: var(--sklearn-color-fitted-level-3);\n",
              "}\n",
              "\n",
              ".sk-estimator-doc-link:hover span {\n",
              "  display: block;\n",
              "}\n",
              "\n",
              "/* \"?\"-specific style due to the `<a>` HTML tag */\n",
              "\n",
              "#sk-container-id-1 a.estimator_doc_link {\n",
              "  float: right;\n",
              "  font-size: 1rem;\n",
              "  line-height: 1em;\n",
              "  font-family: monospace;\n",
              "  background-color: var(--sklearn-color-background);\n",
              "  border-radius: 1rem;\n",
              "  height: 1rem;\n",
              "  width: 1rem;\n",
              "  text-decoration: none;\n",
              "  /* unfitted */\n",
              "  color: var(--sklearn-color-unfitted-level-1);\n",
              "  border: var(--sklearn-color-unfitted-level-1) 1pt solid;\n",
              "}\n",
              "\n",
              "#sk-container-id-1 a.estimator_doc_link.fitted {\n",
              "  /* fitted */\n",
              "  border: var(--sklearn-color-fitted-level-1) 1pt solid;\n",
              "  color: var(--sklearn-color-fitted-level-1);\n",
              "}\n",
              "\n",
              "/* On hover */\n",
              "#sk-container-id-1 a.estimator_doc_link:hover {\n",
              "  /* unfitted */\n",
              "  background-color: var(--sklearn-color-unfitted-level-3);\n",
              "  color: var(--sklearn-color-background);\n",
              "  text-decoration: none;\n",
              "}\n",
              "\n",
              "#sk-container-id-1 a.estimator_doc_link.fitted:hover {\n",
              "  /* fitted */\n",
              "  background-color: var(--sklearn-color-fitted-level-3);\n",
              "}\n",
              "</style><div id=\"sk-container-id-1\" class=\"sk-top-container\"><div class=\"sk-text-repr-fallback\"><pre>LinearRegression()</pre><b>In a Jupyter environment, please rerun this cell to show the HTML representation or trust the notebook. <br />On GitHub, the HTML representation is unable to render, please try loading this page with nbviewer.org.</b></div><div class=\"sk-container\" hidden><div class=\"sk-item\"><div class=\"sk-estimator fitted sk-toggleable\"><input class=\"sk-toggleable__control sk-hidden--visually\" id=\"sk-estimator-id-1\" type=\"checkbox\" checked><label for=\"sk-estimator-id-1\" class=\"sk-toggleable__label fitted sk-toggleable__label-arrow\"><div><div>LinearRegression</div></div><div><a class=\"sk-estimator-doc-link fitted\" rel=\"noreferrer\" target=\"_blank\" href=\"https://scikit-learn.org/1.6/modules/generated/sklearn.linear_model.LinearRegression.html\">?<span>Documentation for LinearRegression</span></a><span class=\"sk-estimator-doc-link fitted\">i<span>Fitted</span></span></div></label><div class=\"sk-toggleable__content fitted\"><pre>LinearRegression()</pre></div> </div></div></div></div>"
            ]
          },
          "metadata": {},
          "execution_count": 4
        }
      ]
    },
    {
      "cell_type": "markdown",
      "metadata": {
        "id": "e1f4689a"
      },
      "source": [
        "## Calculate residuals\n",
        "\n",
        "### Subtask:\n",
        "Compute the difference between the actual Y values and the Y values predicted by the model. These are the residuals.\n"
      ]
    },
    {
      "cell_type": "markdown",
      "metadata": {
        "id": "e85bd347"
      },
      "source": [
        "**Reasoning**:\n",
        "Predict Y values using the fitted model and calculate the residuals.\n",
        "\n"
      ]
    },
    {
      "cell_type": "code",
      "metadata": {
        "colab": {
          "base_uri": "https://localhost:8080/"
        },
        "id": "3a49301b",
        "outputId": "679bb662-bbe3-42af-bcaa-fec1a8c3d8ad"
      },
      "source": [
        "# Predict Y values\n",
        "predicted_Y = model.predict(X)\n",
        "\n",
        "# Calculate residuals\n",
        "residuals = Y - predicted_Y\n",
        "\n",
        "print(f\"Residuals: {residuals}\")"
      ],
      "execution_count": 5,
      "outputs": [
        {
          "output_type": "stream",
          "name": "stdout",
          "text": [
            "Residuals: [-3.   5.5 -1.  -2.5  1. ]\n"
          ]
        }
      ]
    },
    {
      "cell_type": "markdown",
      "metadata": {
        "id": "5d060b40"
      },
      "source": [
        "## Create residuals plot\n",
        "\n",
        "### Subtask:\n",
        "Generate a scatter plot with the independent variable (X) on the x-axis and the residuals on the y-axis.\n"
      ]
    },
    {
      "cell_type": "markdown",
      "metadata": {
        "id": "3d34ea37"
      },
      "source": [
        "**Reasoning**:\n",
        "Generate a scatter plot of the residuals against the independent variable X.\n",
        "\n"
      ]
    },
    {
      "cell_type": "code",
      "metadata": {
        "colab": {
          "base_uri": "https://localhost:8080/",
          "height": 489
        },
        "id": "76013b3d",
        "outputId": "504a85e7-7c8b-414d-fe0b-6d5cae5bdaf8"
      },
      "source": [
        "import matplotlib.pyplot as plt\n",
        "\n",
        "# Create a scatter plot of residuals vs. X\n",
        "plt.figure(figsize=(8, 6))\n",
        "plt.scatter(X, residuals)\n",
        "plt.title('Residuals Plot')\n",
        "plt.xlabel('Independent Variable (X)')\n",
        "plt.ylabel('Residuals')\n",
        "plt.grid(True)\n",
        "plt.show()"
      ],
      "execution_count": 6,
      "outputs": [
        {
          "output_type": "display_data",
          "data": {
            "text/plain": [
              "<Figure size 800x600 with 1 Axes>"
            ],
            "image/png": "[encoded data removed]"
          },
          "metadata": {}
        }
      ]
    },
    {
      "cell_type": "markdown",
      "metadata": {
        "id": "e23d20a0"
      },
      "source": [
        "## Add horizontal line at zero\n",
        "\n",
        "### Subtask:\n",
        "Add a horizontal line at y=0 on the residuals plot to visually assess the spread of residuals around zero.\n"
      ]
    },
    {
      "cell_type": "markdown",
      "metadata": {
        "id": "abb6a470"
      },
      "source": [
        "**Reasoning**:\n",
        "Add a horizontal line at y=0 on the residuals plot to visually assess the spread of residuals around zero.\n",
        "\n"
      ]
    },
    {
      "cell_type": "code",
      "metadata": {
        "colab": {
          "base_uri": "https://localhost:8080/",
          "height": 489
        },
        "id": "88cb8a52",
        "outputId": "9ac2d080-fe82-4a5a-f153-1ca9477dcb7c"
      },
      "source": [
        "import matplotlib.pyplot as plt\n",
        "\n",
        "# Create a scatter plot of residuals vs. X\n",
        "plt.figure(figsize=(8, 6))\n",
        "plt.scatter(X, residuals)\n",
        "plt.title('Residuals Plot')\n",
        "plt.xlabel('Independent Variable (X)')\n",
        "plt.ylabel('Residuals')\n",
        "plt.grid(True)\n",
        "\n",
        "# Add a horizontal line at y=0\n",
        "plt.axhline(y=0, color='red', linestyle='--')\n",
        "\n",
        "plt.show()"
      ],
      "execution_count": 7,
      "outputs": [
        {
          "output_type": "display_data",
          "data": {
            "text/plain": [
              "<Figure size 800x600 with 1 Axes>"
            ],
            "image/png": "[encoded data removed]"
          },
          "metadata": {}
        }
      ]
    },
    {
      "cell_type": "markdown",
      "metadata": {
        "id": "03759ea8"
      },
      "source": [
        "## Add labels and title\n",
        "\n",
        "### Subtask:\n",
        "Label the axes and add a title to the plot for clarity.\n"
      ]
    },
    {
      "cell_type": "markdown",
      "metadata": {
        "id": "0fcad50a"
      },
      "source": [
        "## Show the plot\n",
        "\n",
        "### Subtask:\n",
        "Display the generated residuals plot.\n"
      ]
    },
    {
      "cell_type": "markdown",
      "metadata": {
        "id": "6362ec5a"
      },
      "source": [
        "## Summary:\n",
        "\n",
        "### Data Analysis Key Findings\n",
        "\n",
        "*   A linear regression model was successfully fitted to the data with the equation: $Y = 1.2X + 3$.\n",
        "*   The calculated residuals for the given X values were $[-3.0, 5.5, -1.0, -2.5, 1.0]$.\n",
        "*   A residuals plot was generated showing the distribution of these residuals against the independent variable X.\n",
        "*   A horizontal line was added at $y=0$ on the residuals plot to serve as a reference point.\n",
        "\n",
        "### Insights or Next Steps\n",
        "\n",
        "*   The residuals plot shows that the residuals are scattered around zero without a clear pattern, suggesting that a linear model is a reasonable fit for this data.\n",
        "*   For a more thorough model evaluation, one could examine other diagnostic plots, such as a Q-Q plot of residuals to check for normality and a scale-location plot to check for homoscedasticity.\n"
      ]
    },
    {
      "cell_type": "markdown",
      "source": [
        "Ques.10 : Imagine you are a data scientist working for a real estate company. Youneed to predict house prices using features like area, number of rooms, and location.However, you detectheteroscedasticity and multicollinearity in your regressionmodel. Explain the stepsyou would take to address these issuesand ensure a robust model."
      ],
      "metadata": {
        "id": "lxcyQSODYgFw"
      }
    },
    {
      "cell_type": "markdown",
      "source": [
        "Ans: 10"
      ],
      "metadata": {
        "id": "7zUtGm72Yze_"
      }
    },
    {
      "cell_type": "markdown",
      "metadata": {
        "id": "0605595c"
      },
      "source": [
        "Addressing heteroscedasticity and multicollinearity in a regression model is crucial for building a robust and reliable predictive model. Here's how a data scientist would typically approach these issues in the context of predicting house prices:\n",
        "\n",
        "**Addressing Heteroscedasticity:**\n",
        "\n",
        "Heteroscedasticity means the variance of the errors is not constant across all levels of the independent variables. In real estate, this might mean the model's predictions are much less accurate for very expensive houses than for moderately priced ones.\n",
        "\n",
        "1.  **Identify Heteroscedasticity:**\n",
        "    *   **Residuals Plot:** The most common way is to plot the residuals against the predicted values or the independent variables. A fan shape or a cone shape in the plot indicates heteroscedasticity.\n",
        "    *   **Statistical Tests:** Formal tests like the Breusch-Pagan test or the White test can statistically assess the presence of heteroscedasticity.\n",
        "\n",
        "2.  **Address Heteroscedasticity:**\n",
        "    *   **Transform the Dependent Variable:** Applying transformations to the dependent variable (house price), such as the logarithm or square root, can often stabilize the variance. For example, using `log(Price)` might make the residuals more evenly spread.\n",
        "    *   **Weighted Least Squares (WLS):** If the pattern of heteroscedasticity is known or can be estimated, WLS can be used. This method gives less weight to observations with larger variances and more weight to observations with smaller variances.\n",
        "    *   **Robust Standard Errors:** Using robust standard errors (also known as heteroscedasticity-consistent standard errors) doesn't eliminate heteroscedasticity but provides correct standard errors for the coefficients, making hypothesis tests and confidence intervals valid. This is often a simpler approach than transforming variables or using WLS.\n",
        "    *   **Model Specification:** Sometimes, heteroscedasticity is a sign of a misspecified model. Adding relevant variables, including interaction terms, or using a non-linear model might resolve the issue.\n",
        "\n",
        "**Addressing Multicollinearity:**\n",
        "\n",
        "Multicollinearity occurs when two or more independent variables in a regression model are highly correlated. In real estate, this could happen if \"Area\" and \"Number of Rooms\" are highly correlated (larger houses tend to have more rooms).\n",
        "\n",
        "1.  **Identify Multicollinearity:**\n",
        "    *   **Correlation Matrix:** Calculate the correlation matrix of the independent variables. High correlation coefficients (e.g., above 0.8 or 0.9) suggest multicollinearity.\n",
        "    *   **Variance Inflation Factor (VIF):** VIF measures how much the variance of the estimated regression coefficient is increased due to multicollinearity. A VIF value greater than 5 or 10 is often considered an indication of significant multicollinearity.\n",
        "\n",
        "2.  **Address Multicollinearity:**\n",
        "    *   **Remove One of the Correlated Variables:** If two variables are highly correlated, remove one of them from the model. Choose the variable that is less theoretically important or has less data quality.\n",
        "    *   **Combine Correlated Variables:** Create a new variable that is a combination of the highly correlated variables. For instance, you could create a \"Density\" variable by dividing \"Area\" by \"Number of Rooms\".\n",
        "    *   **Principal Component Analysis (PCA):** PCA is a dimensionality reduction technique that can transform the correlated independent variables into a set of uncorrelated principal components. These components can then be used as predictors in the regression model.\n",
        "    *   **Ridge Regression or Lasso Regression:** These are regularization techniques that can handle multicollinearity by adding a penalty term to the loss function, which shrinks the coefficients and makes the model more stable.\n",
        "\n",
        "**Ensuring a Robust Model:**\n",
        "\n",
        "Beyond addressing heteroscedasticity and multicollinearity, a data scientist would take these steps to ensure a robust real estate price prediction model:\n",
        "\n",
        "*   **Data Cleaning and Preprocessing:** Handle missing values, outliers, and scale or normalize features as needed.\n",
        "*   **Feature Engineering:** Create new features that might capture important information (e.g., distance to schools, crime rate, age of the house).\n",
        "*   **Model Selection:** Experiment with different regression models (e.g., linear regression, decision trees, random forests, gradient boosting) and choose the one that performs best based on appropriate evaluation metrics.\n",
        "*   **Cross-Validation:** Use cross-validation to assess the model's performance on unseen data and ensure it generalizes well.\n",
        "*   **Evaluation Metrics:** Use appropriate metrics like R-squared, Mean Absolute Error (MAE), Mean Squared Error (MSE), or Root Mean Squared Error (RMSE) to evaluate the model's accuracy.\n",
        "*   **Interpretability:** Understand the model's coefficients and feature importances to ensure the model makes sense in the context of real estate.\n",
        "*   **Domain Knowledge:** Incorporate real estate domain knowledge to guide feature selection, model building, and interpretation.\n",
        "\n",
        "By systematically addressing heteroscedasticity and multicollinearity, along with following best practices for model development, a data scientist can build a more reliable and accurate regression model for predicting house prices."
      ]
    }
  ]
}