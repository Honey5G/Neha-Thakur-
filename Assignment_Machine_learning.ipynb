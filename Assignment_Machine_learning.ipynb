{
  "nbformat": 4,
  "nbformat_minor": 0,
  "metadata": {
    "colab": {
      "provenance": []
    },
    "kernelspec": {
      "name": "python3",
      "display_name": "Python 3"
    },
    "language_info": {
      "name": "python"
    }
  },
  "cells": [
    {
      "cell_type": "markdown",
      "source": [
        "**Assignment Questions:**"
      ],
      "metadata": {
        "id": "GQmHJ7U-Pjn3"
      }
    },
    {
      "cell_type": "markdown",
      "source": [
        "**Assignment of Machine Learning.**\n",
        "\n"
      ],
      "metadata": {
        "id": "PATAQQZ8b_xM"
      }
    },
    {
      "cell_type": "markdown",
      "source": [
        "Ques.1 What is a parameter?"
      ],
      "metadata": {
        "id": "WB3-ursnP0lV"
      }
    },
    {
      "cell_type": "markdown",
      "source": [
        "Ans: A parameter is a variable that is part of a function's definition. It acts as a placeholder for values that will be passed into the function when it is called."
      ],
      "metadata": {
        "id": "Xm5wnjw7PoX1"
      }
    },
    {
      "cell_type": "markdown",
      "source": [
        "Ques.2 What is correlation?\n",
        "\n",
        "       What does negative correlation mean?"
      ],
      "metadata": {
        "id": "v_uNQ2NXQHBt"
      }
    },
    {
      "cell_type": "markdown",
      "source": [
        "Ans: Correlation is a statistical measure that describes the extent to which two variables are linearly related. It indicates how much one variable changes when the other one does.\n",
        "\n",
        "Negative correlation means that as one variable increases, the other variable tends to decrease."
      ],
      "metadata": {
        "id": "Yf36mikxQMsy"
      }
    },
    {
      "cell_type": "markdown",
      "source": [
        "Ques.3 Define Machine Learning. What are the main components in Machine Learning?"
      ],
      "metadata": {
        "id": "hvCnh427QSIG"
      }
    },
    {
      "cell_type": "markdown",
      "source": [
        "Ans: Machine Learning is a type of artificial intelligence that enables systems to learn from data, identify patterns, and make decisions with minimal human intervention. The main components of Machine Learning typically include:\n",
        "\n",
        "1. Data: The raw information used to train the model. The quality and quantity of data are crucial for the model's performance.\n",
        "\n",
        "2. Model: The algorithm or set of algorithms that learns from the data. Examples include linear regression, decision trees, neural networks, etc.\n",
        "\n",
        "3. Algorithm: The process or set of rules used by the model to learn from the data.\n",
        "\n",
        "4. Training: The process of feeding data to the model and adjusting its parameters to minimize errors and improve performance.\n",
        "\n",
        "5. Evaluation: The process of assessing the model's performance on unseen data to determine its accuracy and effectiveness.\n",
        "\n",
        "6. Prediction/Inference: Using the trained model to make predictions or decisions on new, unseen data.\n"
      ],
      "metadata": {
        "id": "ISGrnT2wQnQa"
      }
    },
    {
      "cell_type": "markdown",
      "source": [
        "Ques.4 How does loss value help in determining whether the model is good or not?"
      ],
      "metadata": {
        "id": "Gp30i9XgRLHZ"
      }
    },
    {
      "cell_type": "markdown",
      "source": [
        "Ans: The loss value, also known as the cost or error, quantifies the difference between the model's predictions and the actual values. A lower loss value indicates that the model's predictions are closer to the true values, suggesting a better-performing model. During the training process, the goal is to minimize this loss value, which in turn improves the model's accuracy and effectiveness"
      ],
      "metadata": {
        "id": "Z2QKuqCZRRrb"
      }
    },
    {
      "cell_type": "markdown",
      "source": [
        "Ques.5 What are continuous and categorical variables?"
      ],
      "metadata": {
        "id": "5e68I_BXRXco"
      }
    },
    {
      "cell_type": "markdown",
      "source": [
        "Ans: Continuous variables can take on any value within a given range (e.g., height, weight, temperature), while categorical variables can only take on a limited number of distinct values or categories (e.g., gender, color, type of fruit)."
      ],
      "metadata": {
        "id": "BcmBBiYxRbf-"
      }
    },
    {
      "cell_type": "markdown",
      "source": [
        "Ques.6 How do we handle categorical variables in Machine Learning? What are the common techniques?"
      ],
      "metadata": {
        "id": "SGv2eyFCRjvs"
      }
    },
    {
      "cell_type": "markdown",
      "source": [
        "Ans: Handling categorical variables is an important step in machine learning as most algorithms require numerical input. Here are some common techniques:\n",
        "\n",
        "1. One-Hot Encoding: This is one of the most common techniques. It converts each category into a new binary column (0 or 1). If a data point belongs to a category, the corresponding column for that category will have a value of 1, and all other category columns will have a value of 0.\n",
        "\n",
        "2. Label Encoding: This technique assigns a unique integer to each category. While simple, it can introduce an artificial sense of order or hierarchy among categories, which might not be desirable for all algorithms.\n",
        "\n",
        "3. Ordinal Encoding: Similar to label encoding, but used when there is a natural order or ranking among the categories (e.g., 'low', 'medium', 'high').\n",
        "\n",
        "4. Target Encoding: This technique replaces each category with the mean of the target variable for that category. This can be useful but can also lead to overfitting if not used carefully.\n",
        "\n",
        "5. Binary Encoding: This is a combination of one-hot encoding and label encoding. The categories are first converted to numerical labels, and then these labels are represented in binary code. Each bit in the binary code gets its own column.\n",
        "\n",
        "The choice of technique depends on the nature of the categorical variable and the specific machine learning algorithm being used."
      ],
      "metadata": {
        "id": "8w9L6b6tRs6X"
      }
    },
    {
      "cell_type": "markdown",
      "source": [
        "Ques.7 What do you mean by training and testing a dataset?"
      ],
      "metadata": {
        "id": "R1egpMD7SGS5"
      }
    },
    {
      "cell_type": "markdown",
      "source": [
        "Ans: Training a dataset involves using a portion of your data to feed into a machine learning model. The model learns from this data to identify patterns and relationships between features and the target variable.\n",
        "\n",
        "Testing a dataset involves using a separate, unseen portion of your data to evaluate the performance of the trained model. This helps determine how well the model generalizes to new data and provides an estimate of its accuracy and effectiveness in real-world scenarios."
      ],
      "metadata": {
        "id": "WchqMcTISLH6"
      }
    },
    {
      "cell_type": "markdown",
      "source": [
        "Ques.8 What is sklearn.preprocessing?"
      ],
      "metadata": {
        "id": "pay-rIlGSQHC"
      }
    },
    {
      "cell_type": "markdown",
      "source": [
        "Ans: sklearn.preprocessing is a module in the scikit-learn library that provides a wide range of functions and classes for data preprocessing. Data preprocessing is a crucial step in machine learning that involves transforming raw data into a format that is suitable for training machine learning models.\n",
        "\n",
        "The sklearn.preprocessing module includes tools for tasks such as:\n",
        "\n",
        "Scaling: Scaling features to a similar range (e.g., using StandardScaler or MinMaxScaler).\n",
        "Normalization: Normalizing data to a unit norm (e.g., using Normalizer).\n",
        "\n",
        "Encoding categorical features: Converting categorical variables into numerical representations (e.g., using OneHotEncoder or LabelEncoder).\n",
        "\n",
        "Imputation: Handling missing values (e.g., using SimpleImputer).\n",
        "Polynomial features: Generating polynomial features from existing features (e.g., using PolynomialFeatures).\n",
        "\n",
        "These preprocessing techniques can help improve the performance of machine learning models by ensuring that the data is in a consistent and appropriate format for the algorithms."
      ],
      "metadata": {
        "id": "qWnCEwuiSXcw"
      }
    },
    {
      "cell_type": "markdown",
      "source": [
        "Ques.9 What is a Test set?"
      ],
      "metadata": {
        "id": "hQRNgm1HSkqy"
      }
    },
    {
      "cell_type": "markdown",
      "source": [
        "Ans: A test set is a portion of your dataset that is used to evaluate the performance of a machine learning model after it has been trained on the training set. It consists of data that the model has not seen during training, providing an unbiased assessment of how well the model generalizes to new, unseen data."
      ],
      "metadata": {
        "id": "DIEbfIFPSq_d"
      }
    },
    {
      "cell_type": "markdown",
      "source": [
        "Ques.10 How do we split data for model fitting (training and testing) in Python?"
      ],
      "metadata": {
        "id": "XWN4xe1GSwvQ"
      }
    },
    {
      "cell_type": "code",
      "metadata": {
        "colab": {
          "base_uri": "https://localhost:8080/"
        },
        "id": "7f1fc3a0",
        "outputId": "534178d1-0380-4c8f-b3db-9145b3da27f7"
      },
      "source": [
        "from sklearn.model_selection import train_test_split\n",
        "import pandas as pd\n",
        "\n",
        "# Assuming you have a DataFrame named 'df' with your features (X) and target (y)\n",
        "# Replace this with your actual data loading and preparation\n",
        "data = {'feature1': [1, 2, 3, 4, 5, 6, 7, 8, 9, 10],\n",
        "        'feature2': [11, 12, 13, 14, 15, 16, 17, 18, 19, 20],\n",
        "        'target': [0, 1, 0, 1, 0, 1, 0, 1, 0, 1]}\n",
        "df = pd.DataFrame(data)\n",
        "\n",
        "X = df[['feature1', 'feature2']] # Your features\n",
        "y = df['target'] # Your target variable\n",
        "\n",
        "# Split the data into training and testing sets\n",
        "X_train, X_test, y_train, y_test = train_test_split(X, y, test_size=0.2, random_state=42)\n",
        "\n",
        "print(\"Training set shape (features):\", X_train.shape)\n",
        "print(\"Testing set shape (features):\", X_test.shape)\n",
        "print(\"Training set shape (target):\", y_train.shape)\n",
        "print(\"Testing set shape (target):\", y_test.shape)"
      ],
      "execution_count": 1,
      "outputs": [
        {
          "output_type": "stream",
          "name": "stdout",
          "text": [
            "Training set shape (features): (8, 2)\n",
            "Testing set shape (features): (2, 2)\n",
            "Training set shape (target): (8,)\n",
            "Testing set shape (target): (2,)\n"
          ]
        }
      ]
    },
    {
      "cell_type": "markdown",
      "source": [
        "Ques.10 How do you approach a Machine Learning problem?"
      ],
      "metadata": {
        "id": "Wn56ainKTDrN"
      }
    },
    {
      "cell_type": "markdown",
      "metadata": {
        "id": "d0a8c208"
      },
      "source": [
        "\n",
        "How do you approach a Machine Learning problem?\n",
        "Approaching a Machine Learning problem typically involves several key steps. Here's a general outline:\n",
        "\n",
        "Understand the problem: Clearly define the problem you're trying to solve, the objective, and the desired outcome.\n",
        " .Data collection: Gather relevant data for your problem.\n",
        "Data preprocessing: Clean, transform, and prepare the data for modeling. This includes handling missing values, encoding categorical variables, scaling features, etc.\n",
        "Feature engineering: Create new features or modify existing ones to improve model performance.\n",
        "Model selection: Choose an appropriate machine learning algorithm based on the problem type (e.g., classification, regression) and the nature of the data.\n",
        "Model training: Train the selected model on the prepared data.\n",
        "Model evaluation: Evaluate the trained model's performance using appropriate metrics and a separate test set.\n",
        "Hyperparameter tuning: Optimize the model's hyperparameters to improve performance.\n",
        "Deployment (if applicable): Deploy the trained model to make predictions on new data.\n",
        "Monitoring and maintenance: Continuously monitor the model's performance in production and retrain it as needed.\n",
        "Finish task: Summarize the steps involved in approaching a Machine Learning problem."
      ]
    },
    {
      "cell_type": "markdown",
      "source": [
        "Ques.11 Why do we have to perform EDA before fitting a model to the data?"
      ],
      "metadata": {
        "id": "tiz2zbzYUfXm"
      }
    },
    {
      "cell_type": "markdown",
      "source": [
        "Ans: Performing Exploratory Data Analysis (EDA) before fitting a machine learning model is crucial for several reasons:\n",
        "\n",
        "1. Understanding the Data: EDA helps you gain insights into the structure, content, and characteristics of your dataset. You can identify patterns, distributions, and relationships between variables.\n",
        "2. Identifying Data Quality Issues: EDA allows you to detect missing values, outliers, inconsistencies, and errors in the data. Addressing these issues is essential for building a robust model.\n",
        "3. Feature Engineering: By understanding the data through EDA, you can identify potential features that might be useful for the model or discover the need to create new features.\n",
        "4. Selecting Appropriate Models: EDA can provide clues about the underlying data distribution and relationships, which can help you choose the most suitable machine learning algorithm for your problem.\n",
        "\n",
        "5. Informing Preprocessing Steps: EDA helps you determine the necessary preprocessing steps, such as scaling, encoding, or imputation, based on the data characteristics.\n",
        "\n",
        "6. Avoiding Misleading Results: Without proper EDA, you might build a model based on flawed data or assumptions, leading to inaccurate or misleading results.\n",
        "\n",
        "In essence, EDA is like getting to know your data before you start building anything with it. It lays the foundation for a successful machine Learning project."
      ],
      "metadata": {
        "id": "a_DksxMfUmvh"
      }
    },
    {
      "cell_type": "markdown",
      "source": [
        "Ques.12 What is correlation?\n"
      ],
      "metadata": {
        "id": "rx2nF6y4UsR3"
      }
    },
    {
      "cell_type": "markdown",
      "source": [
        "Ans: Correlation is a statistical measure that describes the extent to which two variables are linearly related. It indicates how much one variable changes when the other one does."
      ],
      "metadata": {
        "id": "D8SEaMwaVNh_"
      }
    },
    {
      "cell_type": "markdown",
      "source": [
        "Ques.13 What does negative correlation mean?"
      ],
      "metadata": {
        "id": "36TYSdQ_VUXE"
      }
    },
    {
      "cell_type": "markdown",
      "source": [
        "Ans: Negative correlation means that as one variable increases, the other variable tends to decrease."
      ],
      "metadata": {
        "id": "pw-MTMdFVagp"
      }
    },
    {
      "cell_type": "markdown",
      "source": [
        "Ques.14 How can you find correlation between variables in Python?"
      ],
      "metadata": {
        "id": "aouMiXJjVlXY"
      }
    },
    {
      "cell_type": "code",
      "metadata": {
        "colab": {
          "base_uri": "https://localhost:8080/",
          "height": 161
        },
        "id": "24c9ac48",
        "outputId": "cc2eb784-f343-4a6e-a2f9-c8f8c0675f39"
      },
      "source": [
        "# Assuming you have a pandas DataFrame named 'df'\n",
        "# The .corr() method calculates the pairwise correlation of columns\n",
        "correlation_matrix = df.corr()\n",
        "\n",
        "print(\"Correlation Matrix:\")\n",
        "display(correlation_matrix)"
      ],
      "execution_count": 2,
      "outputs": [
        {
          "output_type": "stream",
          "name": "stdout",
          "text": [
            "Correlation Matrix:\n"
          ]
        },
        {
          "output_type": "display_data",
          "data": {
            "text/plain": [
              "          feature1  feature2    target\n",
              "feature1  1.000000  1.000000  0.174078\n",
              "feature2  1.000000  1.000000  0.174078\n",
              "target    0.174078  0.174078  1.000000"
            ],
            "text/html": [
              "\n",
              "  <div id=\"df-474f34f2-f30a-4cc3-88ee-2c0eb431d219\" class=\"colab-df-container\">\n",
              "    <div>\n",
              "<style scoped>\n",
              "    .dataframe tbody tr th:only-of-type {\n",
              "        vertical-align: middle;\n",
              "    }\n",
              "\n",
              "    .dataframe tbody tr th {\n",
              "        vertical-align: top;\n",
              "    }\n",
              "\n",
              "    .dataframe thead th {\n",
              "        text-align: right;\n",
              "    }\n",
              "</style>\n",
              "<table border=\"1\" class=\"dataframe\">\n",
              "  <thead>\n",
              "    <tr style=\"text-align: right;\">\n",
              "      <th></th>\n",
              "      <th>feature1</th>\n",
              "      <th>feature2</th>\n",
              "      <th>target</th>\n",
              "    </tr>\n",
              "  </thead>\n",
              "  <tbody>\n",
              "    <tr>\n",
              "      <th>feature1</th>\n",
              "      <td>1.000000</td>\n",
              "      <td>1.000000</td>\n",
              "      <td>0.174078</td>\n",
              "    </tr>\n",
              "    <tr>\n",
              "      <th>feature2</th>\n",
              "      <td>1.000000</td>\n",
              "      <td>1.000000</td>\n",
              "      <td>0.174078</td>\n",
              "    </tr>\n",
              "    <tr>\n",
              "      <th>target</th>\n",
              "      <td>0.174078</td>\n",
              "      <td>0.174078</td>\n",
              "      <td>1.000000</td>\n",
              "    </tr>\n",
              "  </tbody>\n",
              "</table>\n",
              "</div>\n",
              "    <div class=\"colab-df-buttons\">\n",
              "\n",
              "  <div class=\"colab-df-container\">\n",
              "    <button class=\"colab-df-convert\" onclick=\"convertToInteractive('df-474f34f2-f30a-4cc3-88ee-2c0eb431d219')\"\n",
              "            title=\"Convert this dataframe to an interactive table.\"\n",
              "            style=\"display:none;\">\n",
              "\n",
              "  <svg xmlns=\"http://www.w3.org/2000/svg\" height=\"24px\" viewBox=\"0 -960 960 960\">\n",
              "    <path d=\"M120-120v-720h720v720H120Zm60-500h600v-160H180v160Zm220 220h160v-160H400v160Zm0 220h160v-160H400v160ZM180-400h160v-160H180v160Zm440 0h160v-160H620v160ZM180-180h160v-160H180v160Zm440 0h160v-160H620v160Z\"/>\n",
              "  </svg>\n",
              "    </button>\n",
              "\n",
              "  <style>\n",
              "    .colab-df-container {\n",
              "      display:flex;\n",
              "      gap: 12px;\n",
              "    }\n",
              "\n",
              "    .colab-df-convert {\n",
              "      background-color: #E8F0FE;\n",
              "      border: none;\n",
              "      border-radius: 50%;\n",
              "      cursor: pointer;\n",
              "      display: none;\n",
              "      fill: #1967D2;\n",
              "      height: 32px;\n",
              "      padding: 0 0 0 0;\n",
              "      width: 32px;\n",
              "    }\n",
              "\n",
              "    .colab-df-convert:hover {\n",
              "      background-color: #E2EBFA;\n",
              "      box-shadow: 0px 1px 2px rgba(60, 64, 67, 0.3), 0px 1px 3px 1px rgba(60, 64, 67, 0.15);\n",
              "      fill: #174EA6;\n",
              "    }\n",
              "\n",
              "    .colab-df-buttons div {\n",
              "      margin-bottom: 4px;\n",
              "    }\n",
              "\n",
              "    [theme=dark] .colab-df-convert {\n",
              "      background-color: #3B4455;\n",
              "      fill: #D2E3FC;\n",
              "    }\n",
              "\n",
              "    [theme=dark] .colab-df-convert:hover {\n",
              "      background-color: #434B5C;\n",
              "      box-shadow: 0px 1px 3px 1px rgba(0, 0, 0, 0.15);\n",
              "      filter: drop-shadow(0px 1px 2px rgba(0, 0, 0, 0.3));\n",
              "      fill: #FFFFFF;\n",
              "    }\n",
              "  </style>\n",
              "\n",
              "    <script>\n",
              "      const buttonEl =\n",
              "        document.querySelector('#df-474f34f2-f30a-4cc3-88ee-2c0eb431d219 button.colab-df-convert');\n",
              "      buttonEl.style.display =\n",
              "        google.colab.kernel.accessAllowed ? 'block' : 'none';\n",
              "\n",
              "      async function convertToInteractive(key) {\n",
              "        const element = document.querySelector('#df-474f34f2-f30a-4cc3-88ee-2c0eb431d219');\n",
              "        const dataTable =\n",
              "          await google.colab.kernel.invokeFunction('convertToInteractive',\n",
              "                                                    [key], {});\n",
              "        if (!dataTable) return;\n",
              "\n",
              "        const docLinkHtml = 'Like what you see? Visit the ' +\n",
              "          '<a target=\"_blank\" href=https://colab.research.google.com/notebooks/data_table.ipynb>data table notebook</a>'\n",
              "          + ' to learn more about interactive tables.';\n",
              "        element.innerHTML = '';\n",
              "        dataTable['output_type'] = 'display_data';\n",
              "        await google.colab.output.renderOutput(dataTable, element);\n",
              "        const docLink = document.createElement('div');\n",
              "        docLink.innerHTML = docLinkHtml;\n",
              "        element.appendChild(docLink);\n",
              "      }\n",
              "    </script>\n",
              "  </div>\n",
              "\n",
              "\n",
              "    <div id=\"df-55c8526d-f18e-4ffb-8f6f-b00f41f10ab3\">\n",
              "      <button class=\"colab-df-quickchart\" onclick=\"quickchart('df-55c8526d-f18e-4ffb-8f6f-b00f41f10ab3')\"\n",
              "                title=\"Suggest charts\"\n",
              "                style=\"display:none;\">\n",
              "\n",
              "<svg xmlns=\"http://www.w3.org/2000/svg\" height=\"24px\"viewBox=\"0 0 24 24\"\n",
              "     width=\"24px\">\n",
              "    <g>\n",
              "        <path d=\"M19 3H5c-1.1 0-2 .9-2 2v14c0 1.1.9 2 2 2h14c1.1 0 2-.9 2-2V5c0-1.1-.9-2-2-2zM9 17H7v-7h2v7zm4 0h-2V7h2v10zm4 0h-2v-4h2v4z\"/>\n",
              "    </g>\n",
              "</svg>\n",
              "      </button>\n",
              "\n",
              "<style>\n",
              "  .colab-df-quickchart {\n",
              "      --bg-color: #E8F0FE;\n",
              "      --fill-color: #1967D2;\n",
              "      --hover-bg-color: #E2EBFA;\n",
              "      --hover-fill-color: #174EA6;\n",
              "      --disabled-fill-color: #AAA;\n",
              "      --disabled-bg-color: #DDD;\n",
              "  }\n",
              "\n",
              "  [theme=dark] .colab-df-quickchart {\n",
              "      --bg-color: #3B4455;\n",
              "      --fill-color: #D2E3FC;\n",
              "      --hover-bg-color: #434B5C;\n",
              "      --hover-fill-color: #FFFFFF;\n",
              "      --disabled-bg-color: #3B4455;\n",
              "      --disabled-fill-color: #666;\n",
              "  }\n",
              "\n",
              "  .colab-df-quickchart {\n",
              "    background-color: var(--bg-color);\n",
              "    border: none;\n",
              "    border-radius: 50%;\n",
              "    cursor: pointer;\n",
              "    display: none;\n",
              "    fill: var(--fill-color);\n",
              "    height: 32px;\n",
              "    padding: 0;\n",
              "    width: 32px;\n",
              "  }\n",
              "\n",
              "  .colab-df-quickchart:hover {\n",
              "    background-color: var(--hover-bg-color);\n",
              "    box-shadow: 0 1px 2px rgba(60, 64, 67, 0.3), 0 1px 3px 1px rgba(60, 64, 67, 0.15);\n",
              "    fill: var(--button-hover-fill-color);\n",
              "  }\n",
              "\n",
              "  .colab-df-quickchart-complete:disabled,\n",
              "  .colab-df-quickchart-complete:disabled:hover {\n",
              "    background-color: var(--disabled-bg-color);\n",
              "    fill: var(--disabled-fill-color);\n",
              "    box-shadow: none;\n",
              "  }\n",
              "\n",
              "  .colab-df-spinner {\n",
              "    border: 2px solid var(--fill-color);\n",
              "    border-color: transparent;\n",
              "    border-bottom-color: var(--fill-color);\n",
              "    animation:\n",
              "      spin 1s steps(1) infinite;\n",
              "  }\n",
              "\n",
              "  @keyframes spin {\n",
              "    0% {\n",
              "      border-color: transparent;\n",
              "      border-bottom-color: var(--fill-color);\n",
              "      border-left-color: var(--fill-color);\n",
              "    }\n",
              "    20% {\n",
              "      border-color: transparent;\n",
              "      border-left-color: var(--fill-color);\n",
              "      border-top-color: var(--fill-color);\n",
              "    }\n",
              "    30% {\n",
              "      border-color: transparent;\n",
              "      border-left-color: var(--fill-color);\n",
              "      border-top-color: var(--fill-color);\n",
              "      border-right-color: var(--fill-color);\n",
              "    }\n",
              "    40% {\n",
              "      border-color: transparent;\n",
              "      border-right-color: var(--fill-color);\n",
              "      border-top-color: var(--fill-color);\n",
              "    }\n",
              "    60% {\n",
              "      border-color: transparent;\n",
              "      border-right-color: var(--fill-color);\n",
              "    }\n",
              "    80% {\n",
              "      border-color: transparent;\n",
              "      border-right-color: var(--fill-color);\n",
              "      border-bottom-color: var(--fill-color);\n",
              "    }\n",
              "    90% {\n",
              "      border-color: transparent;\n",
              "      border-bottom-color: var(--fill-color);\n",
              "    }\n",
              "  }\n",
              "</style>\n",
              "\n",
              "      <script>\n",
              "        async function quickchart(key) {\n",
              "          const quickchartButtonEl =\n",
              "            document.querySelector('#' + key + ' button');\n",
              "          quickchartButtonEl.disabled = true;  // To prevent multiple clicks.\n",
              "          quickchartButtonEl.classList.add('colab-df-spinner');\n",
              "          try {\n",
              "            const charts = await google.colab.kernel.invokeFunction(\n",
              "                'suggestCharts', [key], {});\n",
              "          } catch (error) {\n",
              "            console.error('Error during call to suggestCharts:', error);\n",
              "          }\n",
              "          quickchartButtonEl.classList.remove('colab-df-spinner');\n",
              "          quickchartButtonEl.classList.add('colab-df-quickchart-complete');\n",
              "        }\n",
              "        (() => {\n",
              "          let quickchartButtonEl =\n",
              "            document.querySelector('#df-55c8526d-f18e-4ffb-8f6f-b00f41f10ab3 button');\n",
              "          quickchartButtonEl.style.display =\n",
              "            google.colab.kernel.accessAllowed ? 'block' : 'none';\n",
              "        })();\n",
              "      </script>\n",
              "    </div>\n",
              "\n",
              "  <div id=\"id_ee45a039-3cf1-4df4-beb9-823a82c228dd\">\n",
              "    <style>\n",
              "      .colab-df-generate {\n",
              "        background-color: #E8F0FE;\n",
              "        border: none;\n",
              "        border-radius: 50%;\n",
              "        cursor: pointer;\n",
              "        display: none;\n",
              "        fill: #1967D2;\n",
              "        height: 32px;\n",
              "        padding: 0 0 0 0;\n",
              "        width: 32px;\n",
              "      }\n",
              "\n",
              "      .colab-df-generate:hover {\n",
              "        background-color: #E2EBFA;\n",
              "        box-shadow: 0px 1px 2px rgba(60, 64, 67, 0.3), 0px 1px 3px 1px rgba(60, 64, 67, 0.15);\n",
              "        fill: #174EA6;\n",
              "      }\n",
              "\n",
              "      [theme=dark] .colab-df-generate {\n",
              "        background-color: #3B4455;\n",
              "        fill: #D2E3FC;\n",
              "      }\n",
              "\n",
              "      [theme=dark] .colab-df-generate:hover {\n",
              "        background-color: #434B5C;\n",
              "        box-shadow: 0px 1px 3px 1px rgba(0, 0, 0, 0.15);\n",
              "        filter: drop-shadow(0px 1px 2px rgba(0, 0, 0, 0.3));\n",
              "        fill: #FFFFFF;\n",
              "      }\n",
              "    </style>\n",
              "    <button class=\"colab-df-generate\" onclick=\"generateWithVariable('correlation_matrix')\"\n",
              "            title=\"Generate code using this dataframe.\"\n",
              "            style=\"display:none;\">\n",
              "\n",
              "  <svg xmlns=\"http://www.w3.org/2000/svg\" height=\"24px\"viewBox=\"0 0 24 24\"\n",
              "       width=\"24px\">\n",
              "    <path d=\"M7,19H8.4L18.45,9,17,7.55,7,17.6ZM5,21V16.75L18.45,3.32a2,2,0,0,1,2.83,0l1.4,1.43a1.91,1.91,0,0,1,.58,1.4,1.91,1.91,0,0,1-.58,1.4L9.25,21ZM18.45,9,17,7.55Zm-12,3A5.31,5.31,0,0,0,4.9,8.1,5.31,5.31,0,0,0,1,6.5,5.31,5.31,0,0,0,4.9,4.9,5.31,5.31,0,0,0,6.5,1,5.31,5.31,0,0,0,8.1,4.9,5.31,5.31,0,0,0,12,6.5,5.46,5.46,0,0,0,6.5,12Z\"/>\n",
              "  </svg>\n",
              "    </button>\n",
              "    <script>\n",
              "      (() => {\n",
              "      const buttonEl =\n",
              "        document.querySelector('#id_ee45a039-3cf1-4df4-beb9-823a82c228dd button.colab-df-generate');\n",
              "      buttonEl.style.display =\n",
              "        google.colab.kernel.accessAllowed ? 'block' : 'none';\n",
              "\n",
              "      buttonEl.onclick = () => {\n",
              "        google.colab.notebook.generateWithVariable('correlation_matrix');\n",
              "      }\n",
              "      })();\n",
              "    </script>\n",
              "  </div>\n",
              "\n",
              "    </div>\n",
              "  </div>\n"
            ],
            "application/vnd.google.colaboratory.intrinsic+json": {
              "type": "dataframe",
              "variable_name": "correlation_matrix",
              "summary": "{\n  \"name\": \"correlation_matrix\",\n  \"rows\": 3,\n  \"fields\": [\n    {\n      \"column\": \"feature1\",\n      \"properties\": {\n        \"dtype\": \"number\",\n        \"std\": 0.4768464876637045,\n        \"min\": 0.17407765595569785,\n        \"max\": 1.0,\n        \"num_unique_values\": 2,\n        \"samples\": [\n          0.17407765595569785,\n          1.0\n        ],\n        \"semantic_type\": \"\",\n        \"description\": \"\"\n      }\n    },\n    {\n      \"column\": \"feature2\",\n      \"properties\": {\n        \"dtype\": \"number\",\n        \"std\": 0.4768464876637045,\n        \"min\": 0.17407765595569785,\n        \"max\": 1.0,\n        \"num_unique_values\": 2,\n        \"samples\": [\n          0.17407765595569785,\n          1.0\n        ],\n        \"semantic_type\": \"\",\n        \"description\": \"\"\n      }\n    },\n    {\n      \"column\": \"target\",\n      \"properties\": {\n        \"dtype\": \"number\",\n        \"std\": 0.4768464876637045,\n        \"min\": 0.17407765595569785,\n        \"max\": 1.0,\n        \"num_unique_values\": 2,\n        \"samples\": [\n          1.0,\n          0.17407765595569785\n        ],\n        \"semantic_type\": \"\",\n        \"description\": \"\"\n      }\n    }\n  ]\n}"
            }
          },
          "metadata": {}
        }
      ]
    },
    {
      "cell_type": "markdown",
      "source": [
        "Ques.15 What is causation? Explain difference between correlation and causation with an example?"
      ],
      "metadata": {
        "id": "BfIxhQVNWDXW"
      }
    },
    {
      "cell_type": "markdown",
      "source": [
        "Ans: You've seen how to calculate the correlation_matrix in Python. Now, let's talk about causation.\n",
        "\n",
        "Causation means that one event is the direct result of another event. In other words, a change in one variable causes a change in another variable.\n",
        "\n",
        "The key difference between correlation and causation is that correlation does not imply causation. Just because two variables are related (correlated) doesn't mean that one causes the other. There might be a third, unobserved variable influencing both, or the relationship might be purely coincidental.\n",
        "\n",
        "Here's an example:\n",
        "\n",
        "Imagine you observe a strong positive correlation between ice cream sales and the number of people who drown at the beach. Does this mean that eating ice cream causes people to drown? No. The causation is likely due to a third factor: hot weather. Hot weather leads to both increased ice cream sales and more people swimming (and unfortunately, more drownings).\n",
        "\n",
        "So, while your correlation_matrix might show a strong relationship between two variables, you need further investigation and domain knowledge to determine if there is a causal link."
      ],
      "metadata": {
        "id": "EdmpZGXcWMry"
      }
    },
    {
      "cell_type": "markdown",
      "source": [
        "Ques.16 What is an Optimizer? What are different types of optimizers? Explain each with an example?"
      ],
      "metadata": {
        "id": "hcVYbMxnWaop"
      }
    },
    {
      "cell_type": "markdown",
      "source": [
        "Ans: An optimizer in machine learning is an algorithm used to update the parameters of a model during training to minimize the loss function. Essentially, it's the engine that drives the learning process by adjusting the model's internal settings to make its predictions more accurate.\n",
        "\n",
        "Here are some different types of optimizers:\n",
        "\n",
        "1. Gradient Descent (GD): This is the most basic optimizer. It calculates the gradient of the loss function with respect to the model's parameters and updates the parameters in the opposite direction of the gradient.\n",
        "Example: Imagine you're trying to find the lowest point in a valley (the minimum loss). Gradient descent is like taking small steps downhill in the steepest direction at each point.\n",
        "2. Stochastic Gradient Descent (SGD): Instead of calculating the gradient over the entire dataset (which can be slow for large datasets), SGD calculates the gradient for a single randomly selected data point at each step.\n",
        "Example: Instead of looking at the whole valley, you pick one spot, see which way is steepest downhill from there, and take a step. This is faster but can be a bit more erratic.\n",
        "3. Mini-batch Gradient Descent: This is a compromise between GD and SGD. It calculates the gradient over a small batch of randomly selected data points.\n",
        "Example: You look at a small group of spots in the valley, find the average steepest direction for that group, and take a step. This is more stable than SGD but faster than full GD.\n",
        "4. Momentum: This optimizer helps accelerate GD in the relevant direction and dampens oscillations. It adds a fraction of the previous update to the current update.\n",
        "Example: Imagine rolling a ball down the valley. Momentum helps the ball keep rolling in the general downhill direction, even if there are small bumps or changes in slope.\n",
        "5. Adam (Adaptive Moment Estimation): This is one of the most popular optimizers. It combines the ideas of Momentum and RMSprop (another optimizer) to adapt the learning rate for each parameter individually.\n",
        "Example: Adam is like having a smart ball rolling down the valley that can adjust its speed and direction based on how steep and smooth the path is in different parts of the valley."
      ],
      "metadata": {
        "id": "Kggsr866Whvo"
      }
    },
    {
      "cell_type": "markdown",
      "source": [
        "Ques.17 What is sklearn.linear_model ?"
      ],
      "metadata": {
        "id": "nbf4xVucXDoW"
      }
    },
    {
      "cell_type": "markdown",
      "source": [
        "Ans: sklearn.linear_model is a module in the scikit-learn library that provides a variety of linear models for regression and classification tasks. These models are based on the assumption that the relationship between the input features and the target variable is linear.\n",
        "\n",
        "Some of the common models available in sklearn.linear_model include:\n",
        "\n",
        "Linear Regression: For predicting a continuous target variable.\n",
        "Ridge Regression: A type of linear regression that uses L2 regularization to prevent overfitting.\n",
        "Lasso Regression: A type of linear regression that uses L1 regularization to perform feature selection.\n",
        "Logistic Regression: For binary and multi-class classification problems.\n",
        "Elastic-Net: A linear regression model that combines L1 and L2 regularization.\n",
        "These models are relatively simple to understand and implement, and they can be a good starting point for many machine learning problems, especially when the relationship between features and the target is believed to be linear."
      ],
      "metadata": {
        "id": "v9Hb-SUdXJep"
      }
    },
    {
      "cell_type": "markdown",
      "source": [
        "Ques.18 What does model.fit() do? What arguments must be given?\n"
      ],
      "metadata": {
        "id": "pUDFDw7sXV5n"
      }
    },
    {
      "cell_type": "markdown",
      "source": [
        "Ans: The model.fit() method is a fundamental part of training a machine learning model in libraries like scikit-learn.\n",
        "\n",
        "Essentially, model.fit() is where the learning happens. You provide your training data to the model, and the fit() method adjusts the model's internal parameters based on that data to minimize the loss function and learn the underlying patterns and relationships.\n",
        "\n",
        "The primary arguments that must be given to model.fit() are:\n",
        "\n",
        "1. X: This is the training data for your features (also known as independent variables or predictors). It should be in a format that the model can understand, typically a NumPy array or a pandas DataFrame, where rows represent samples and columns represent features.\n",
        "\n",
        "2. y: This is the training data for your target variable (also known as the dependent variable or response). It should correspond to the X data and be in a format that the model can understand, typically a NumPy array or a pandas Series.\n",
        "\n",
        "For example, in the context of the previous code where you split your data, you would use model.fit(X_train, y_train) to train your model on the training features (X_train) and training target values (y_train).\n",
        "\n",
        "Depending on the specific model and library, there might be additional optional arguments you can provide to fit() to control aspects of the training process, but X and y are generally required."
      ],
      "metadata": {
        "id": "GTxOOkWdXc1g"
      }
    },
    {
      "cell_type": "markdown",
      "source": [
        "Ques.19 What does model.predict() do? What arguments must be given?"
      ],
      "metadata": {
        "id": "lNOuRxEoX8Ns"
      }
    },
    {
      "cell_type": "markdown",
      "source": [
        "Ans: The model.predict() method is used to make predictions on new, unseen data after a machine learning model has been trained using the model.fit() method.\n",
        "\n",
        "Essentially, you provide the model with new input data (features), and predict() uses the patterns and relationships learned during training to output the predicted values for the target variable.\n",
        "\n",
        "The primary argument that must be given to model.predict() is:\n",
        "\n",
        "X: This is the data containing the features for which you want to make predictions. It should be in the same format that the model was trained on (typically a NumPy array or a pandas DataFrame), with the same number and order of features as the training data (X_train).\n",
        "For example, after training a model, you would use model.predict(X_test) to get predictions on your testing features (X_test).\n",
        "\n",
        "The output of model.predict() will depend on the type of model:\n",
        "\n",
        "For regression models, it will typically return a NumPy array or pandas Series of predicted numerical values.\n",
        "For classification models, it will typically return a NumPy array or pandas Series of predicted class labels. Some classification models also have a predict_proba() method that returns the probability of each class."
      ],
      "metadata": {
        "id": "fu7pyWkqYBXf"
      }
    },
    {
      "cell_type": "markdown",
      "source": [
        "Ques.20 What are continuous and categorical variables?"
      ],
      "metadata": {
        "id": "0keXusKOYWum"
      }
    },
    {
      "cell_type": "markdown",
      "source": [
        "Ans: Continuous variables can take on any value within a given range (e.g., height, weight, temperature), while categorical variables can only take on a limited number of distinct values or categories (e.g., gender, color, type of fruit).\n",
        "\n"
      ],
      "metadata": {
        "id": "q7Kp7ZQyYhAG"
      }
    },
    {
      "cell_type": "markdown",
      "source": [
        "Ques.21 What is feature scaling? How does it help in Machine Learning?"
      ],
      "metadata": {
        "id": "pctv03dmYsFf"
      }
    },
    {
      "cell_type": "markdown",
      "source": [
        "Ans: Feature scaling is a data preprocessing technique used to standardize or normalize the range of independent variables or features of a dataset. In simpler terms, it means adjusting the scale of your numerical features so that they are all on a similar playing field.\n",
        "\n",
        "It helps in Machine Learning in several ways:\n",
        "\n",
        "1. Improves the performance of distance-based algorithms: Many machine learning algorithms, such as K-Nearest Neighbors (KNN), Support Vector Machines (SVMs), and K-Means clustering, calculate distances between data points. If features have very different scales, the features with larger scales can dominate the distance calculations, leading to biased results. Scaling ensures that all features contribute proportionally.\n",
        "2. Speeds up gradient descent-based optimization: Algorithms that use gradient descent (like linear regression, logistic regression, and neural networks) converge faster when the features are scaled. This is because feature scaling helps the optimization algorithm find the minimum of the cost function more efficiently, preventing oscillations or getting stuck in local minima.\n",
        "Helps with regularization:\n",
        "3. Regularization techniques (like L1 and L2 regularization) penalize large coefficients. If features are not scaled, features with larger values will naturally have larger coefficients, and the regularization penalty will unfairly affect them. Scaling ensures that the penalty is applied consistently across all features.\n",
        "\n",
        "4. Avoids dominance of features with larger magnitudes: Without scaling, features with larger numerical values might be incorrectly perceived as more important by the model, even if they are not. Scaling prevents this by bringing all features to a comparable range.\n",
        "Common feature scaling techniques include:\n",
        "\n",
        ".Standardization (Z-score normalization): Scales features to have zero mean and unit variance.\n",
        ".Normalization (Min-Max scaling): Scales features to a fixed range, usually between 0 and 1.\n",
        "In summary, feature scaling is a crucial step in many machine learning workflows to improve model performance, speed up training, and ensure fair treatment of all features."
      ],
      "metadata": {
        "id": "e9NxvdBHYyIc"
      }
    },
    {
      "cell_type": "markdown",
      "source": [
        "Ques.22 How do we perform scaling in Python?"
      ],
      "metadata": {
        "id": "qDIkunZGZyZc"
      }
    },
    {
      "cell_type": "markdown",
      "source": [
        "Ans:"
      ],
      "metadata": {
        "id": "kpp9dPUAZ7pL"
      }
    },
    {
      "cell_type": "code",
      "metadata": {
        "colab": {
          "base_uri": "https://localhost:8080/",
          "height": 761
        },
        "id": "cc0db3d2",
        "outputId": "8a01a02d-6380-46b1-ae43-9cd901983a69"
      },
      "source": [
        "from sklearn.preprocessing import StandardScaler\n",
        "import pandas as pd\n",
        "\n",
        "# Assuming you have a pandas DataFrame named 'X' with your features\n",
        "# Replace this with your actual data\n",
        "data = {'feature1': [1, 2, 3, 4, 5, 6, 7, 8, 9, 10],\n",
        "        'feature2': [11, 12, 13, 14, 15, 16, 17, 18, 19, 20]}\n",
        "X = pd.DataFrame(data)\n",
        "\n",
        "# Initialize the StandardScaler\n",
        "scaler = StandardScaler()\n",
        "\n",
        "# Fit the scaler to your data and transform it\n",
        "X_scaled = scaler.fit_transform(X)\n",
        "\n",
        "# Convert the scaled data back to a DataFrame (optional)\n",
        "X_scaled_df = pd.DataFrame(X_scaled, columns=X.columns)\n",
        "\n",
        "print(\"Original Data:\")\n",
        "display(X)\n",
        "\n",
        "print(\"\\nScaled Data (Standardized):\")\n",
        "display(X_scaled_df)"
      ],
      "execution_count": 4,
      "outputs": [
        {
          "output_type": "stream",
          "name": "stdout",
          "text": [
            "Original Data:\n"
          ]
        },
        {
          "output_type": "display_data",
          "data": {
            "text/plain": [
              "   feature1  feature2\n",
              "0         1        11\n",
              "1         2        12\n",
              "2         3        13\n",
              "3         4        14\n",
              "4         5        15\n",
              "5         6        16\n",
              "6         7        17\n",
              "7         8        18\n",
              "8         9        19\n",
              "9        10        20"
            ],
            "text/html": [
              "\n",
              "  <div id=\"df-f0989483-3920-4a56-af3f-57fa30b7675d\" class=\"colab-df-container\">\n",
              "    <div>\n",
              "<style scoped>\n",
              "    .dataframe tbody tr th:only-of-type {\n",
              "        vertical-align: middle;\n",
              "    }\n",
              "\n",
              "    .dataframe tbody tr th {\n",
              "        vertical-align: top;\n",
              "    }\n",
              "\n",
              "    .dataframe thead th {\n",
              "        text-align: right;\n",
              "    }\n",
              "</style>\n",
              "<table border=\"1\" class=\"dataframe\">\n",
              "  <thead>\n",
              "    <tr style=\"text-align: right;\">\n",
              "      <th></th>\n",
              "      <th>feature1</th>\n",
              "      <th>feature2</th>\n",
              "    </tr>\n",
              "  </thead>\n",
              "  <tbody>\n",
              "    <tr>\n",
              "      <th>0</th>\n",
              "      <td>1</td>\n",
              "      <td>11</td>\n",
              "    </tr>\n",
              "    <tr>\n",
              "      <th>1</th>\n",
              "      <td>2</td>\n",
              "      <td>12</td>\n",
              "    </tr>\n",
              "    <tr>\n",
              "      <th>2</th>\n",
              "      <td>3</td>\n",
              "      <td>13</td>\n",
              "    </tr>\n",
              "    <tr>\n",
              "      <th>3</th>\n",
              "      <td>4</td>\n",
              "      <td>14</td>\n",
              "    </tr>\n",
              "    <tr>\n",
              "      <th>4</th>\n",
              "      <td>5</td>\n",
              "      <td>15</td>\n",
              "    </tr>\n",
              "    <tr>\n",
              "      <th>5</th>\n",
              "      <td>6</td>\n",
              "      <td>16</td>\n",
              "    </tr>\n",
              "    <tr>\n",
              "      <th>6</th>\n",
              "      <td>7</td>\n",
              "      <td>17</td>\n",
              "    </tr>\n",
              "    <tr>\n",
              "      <th>7</th>\n",
              "      <td>8</td>\n",
              "      <td>18</td>\n",
              "    </tr>\n",
              "    <tr>\n",
              "      <th>8</th>\n",
              "      <td>9</td>\n",
              "      <td>19</td>\n",
              "    </tr>\n",
              "    <tr>\n",
              "      <th>9</th>\n",
              "      <td>10</td>\n",
              "      <td>20</td>\n",
              "    </tr>\n",
              "  </tbody>\n",
              "</table>\n",
              "</div>\n",
              "    <div class=\"colab-df-buttons\">\n",
              "\n",
              "  <div class=\"colab-df-container\">\n",
              "    <button class=\"colab-df-convert\" onclick=\"convertToInteractive('df-f0989483-3920-4a56-af3f-57fa30b7675d')\"\n",
              "            title=\"Convert this dataframe to an interactive table.\"\n",
              "            style=\"display:none;\">\n",
              "\n",
              "  <svg xmlns=\"http://www.w3.org/2000/svg\" height=\"24px\" viewBox=\"0 -960 960 960\">\n",
              "    <path d=\"M120-120v-720h720v720H120Zm60-500h600v-160H180v160Zm220 220h160v-160H400v160Zm0 220h160v-160H400v160ZM180-400h160v-160H180v160Zm440 0h160v-160H620v160ZM180-180h160v-160H180v160Zm440 0h160v-160H620v160Z\"/>\n",
              "  </svg>\n",
              "    </button>\n",
              "\n",
              "  <style>\n",
              "    .colab-df-container {\n",
              "      display:flex;\n",
              "      gap: 12px;\n",
              "    }\n",
              "\n",
              "    .colab-df-convert {\n",
              "      background-color: #E8F0FE;\n",
              "      border: none;\n",
              "      border-radius: 50%;\n",
              "      cursor: pointer;\n",
              "      display: none;\n",
              "      fill: #1967D2;\n",
              "      height: 32px;\n",
              "      padding: 0 0 0 0;\n",
              "      width: 32px;\n",
              "    }\n",
              "\n",
              "    .colab-df-convert:hover {\n",
              "      background-color: #E2EBFA;\n",
              "      box-shadow: 0px 1px 2px rgba(60, 64, 67, 0.3), 0px 1px 3px 1px rgba(60, 64, 67, 0.15);\n",
              "      fill: #174EA6;\n",
              "    }\n",
              "\n",
              "    .colab-df-buttons div {\n",
              "      margin-bottom: 4px;\n",
              "    }\n",
              "\n",
              "    [theme=dark] .colab-df-convert {\n",
              "      background-color: #3B4455;\n",
              "      fill: #D2E3FC;\n",
              "    }\n",
              "\n",
              "    [theme=dark] .colab-df-convert:hover {\n",
              "      background-color: #434B5C;\n",
              "      box-shadow: 0px 1px 3px 1px rgba(0, 0, 0, 0.15);\n",
              "      filter: drop-shadow(0px 1px 2px rgba(0, 0, 0, 0.3));\n",
              "      fill: #FFFFFF;\n",
              "    }\n",
              "  </style>\n",
              "\n",
              "    <script>\n",
              "      const buttonEl =\n",
              "        document.querySelector('#df-f0989483-3920-4a56-af3f-57fa30b7675d button.colab-df-convert');\n",
              "      buttonEl.style.display =\n",
              "        google.colab.kernel.accessAllowed ? 'block' : 'none';\n",
              "\n",
              "      async function convertToInteractive(key) {\n",
              "        const element = document.querySelector('#df-f0989483-3920-4a56-af3f-57fa30b7675d');\n",
              "        const dataTable =\n",
              "          await google.colab.kernel.invokeFunction('convertToInteractive',\n",
              "                                                    [key], {});\n",
              "        if (!dataTable) return;\n",
              "\n",
              "        const docLinkHtml = 'Like what you see? Visit the ' +\n",
              "          '<a target=\"_blank\" href=https://colab.research.google.com/notebooks/data_table.ipynb>data table notebook</a>'\n",
              "          + ' to learn more about interactive tables.';\n",
              "        element.innerHTML = '';\n",
              "        dataTable['output_type'] = 'display_data';\n",
              "        await google.colab.output.renderOutput(dataTable, element);\n",
              "        const docLink = document.createElement('div');\n",
              "        docLink.innerHTML = docLinkHtml;\n",
              "        element.appendChild(docLink);\n",
              "      }\n",
              "    </script>\n",
              "  </div>\n",
              "\n",
              "\n",
              "    <div id=\"df-0e392d05-8ad2-43c8-8801-7d61ed3b1126\">\n",
              "      <button class=\"colab-df-quickchart\" onclick=\"quickchart('df-0e392d05-8ad2-43c8-8801-7d61ed3b1126')\"\n",
              "                title=\"Suggest charts\"\n",
              "                style=\"display:none;\">\n",
              "\n",
              "<svg xmlns=\"http://www.w3.org/2000/svg\" height=\"24px\"viewBox=\"0 0 24 24\"\n",
              "     width=\"24px\">\n",
              "    <g>\n",
              "        <path d=\"M19 3H5c-1.1 0-2 .9-2 2v14c0 1.1.9 2 2 2h14c1.1 0 2-.9 2-2V5c0-1.1-.9-2-2-2zM9 17H7v-7h2v7zm4 0h-2V7h2v10zm4 0h-2v-4h2v4z\"/>\n",
              "    </g>\n",
              "</svg>\n",
              "      </button>\n",
              "\n",
              "<style>\n",
              "  .colab-df-quickchart {\n",
              "      --bg-color: #E8F0FE;\n",
              "      --fill-color: #1967D2;\n",
              "      --hover-bg-color: #E2EBFA;\n",
              "      --hover-fill-color: #174EA6;\n",
              "      --disabled-fill-color: #AAA;\n",
              "      --disabled-bg-color: #DDD;\n",
              "  }\n",
              "\n",
              "  [theme=dark] .colab-df-quickchart {\n",
              "      --bg-color: #3B4455;\n",
              "      --fill-color: #D2E3FC;\n",
              "      --hover-bg-color: #434B5C;\n",
              "      --hover-fill-color: #FFFFFF;\n",
              "      --disabled-bg-color: #3B4455;\n",
              "      --disabled-fill-color: #666;\n",
              "  }\n",
              "\n",
              "  .colab-df-quickchart {\n",
              "    background-color: var(--bg-color);\n",
              "    border: none;\n",
              "    border-radius: 50%;\n",
              "    cursor: pointer;\n",
              "    display: none;\n",
              "    fill: var(--fill-color);\n",
              "    height: 32px;\n",
              "    padding: 0;\n",
              "    width: 32px;\n",
              "  }\n",
              "\n",
              "  .colab-df-quickchart:hover {\n",
              "    background-color: var(--hover-bg-color);\n",
              "    box-shadow: 0 1px 2px rgba(60, 64, 67, 0.3), 0 1px 3px 1px rgba(60, 64, 67, 0.15);\n",
              "    fill: var(--button-hover-fill-color);\n",
              "  }\n",
              "\n",
              "  .colab-df-quickchart-complete:disabled,\n",
              "  .colab-df-quickchart-complete:disabled:hover {\n",
              "    background-color: var(--disabled-bg-color);\n",
              "    fill: var(--disabled-fill-color);\n",
              "    box-shadow: none;\n",
              "  }\n",
              "\n",
              "  .colab-df-spinner {\n",
              "    border: 2px solid var(--fill-color);\n",
              "    border-color: transparent;\n",
              "    border-bottom-color: var(--fill-color);\n",
              "    animation:\n",
              "      spin 1s steps(1) infinite;\n",
              "  }\n",
              "\n",
              "  @keyframes spin {\n",
              "    0% {\n",
              "      border-color: transparent;\n",
              "      border-bottom-color: var(--fill-color);\n",
              "      border-left-color: var(--fill-color);\n",
              "    }\n",
              "    20% {\n",
              "      border-color: transparent;\n",
              "      border-left-color: var(--fill-color);\n",
              "      border-top-color: var(--fill-color);\n",
              "    }\n",
              "    30% {\n",
              "      border-color: transparent;\n",
              "      border-left-color: var(--fill-color);\n",
              "      border-top-color: var(--fill-color);\n",
              "      border-right-color: var(--fill-color);\n",
              "    }\n",
              "    40% {\n",
              "      border-color: transparent;\n",
              "      border-right-color: var(--fill-color);\n",
              "      border-top-color: var(--fill-color);\n",
              "    }\n",
              "    60% {\n",
              "      border-color: transparent;\n",
              "      border-right-color: var(--fill-color);\n",
              "    }\n",
              "    80% {\n",
              "      border-color: transparent;\n",
              "      border-right-color: var(--fill-color);\n",
              "      border-bottom-color: var(--fill-color);\n",
              "    }\n",
              "    90% {\n",
              "      border-color: transparent;\n",
              "      border-bottom-color: var(--fill-color);\n",
              "    }\n",
              "  }\n",
              "</style>\n",
              "\n",
              "      <script>\n",
              "        async function quickchart(key) {\n",
              "          const quickchartButtonEl =\n",
              "            document.querySelector('#' + key + ' button');\n",
              "          quickchartButtonEl.disabled = true;  // To prevent multiple clicks.\n",
              "          quickchartButtonEl.classList.add('colab-df-spinner');\n",
              "          try {\n",
              "            const charts = await google.colab.kernel.invokeFunction(\n",
              "                'suggestCharts', [key], {});\n",
              "          } catch (error) {\n",
              "            console.error('Error during call to suggestCharts:', error);\n",
              "          }\n",
              "          quickchartButtonEl.classList.remove('colab-df-spinner');\n",
              "          quickchartButtonEl.classList.add('colab-df-quickchart-complete');\n",
              "        }\n",
              "        (() => {\n",
              "          let quickchartButtonEl =\n",
              "            document.querySelector('#df-0e392d05-8ad2-43c8-8801-7d61ed3b1126 button');\n",
              "          quickchartButtonEl.style.display =\n",
              "            google.colab.kernel.accessAllowed ? 'block' : 'none';\n",
              "        })();\n",
              "      </script>\n",
              "    </div>\n",
              "\n",
              "  <div id=\"id_b690bb3a-47f0-4829-9ef7-df4666215ca2\">\n",
              "    <style>\n",
              "      .colab-df-generate {\n",
              "        background-color: #E8F0FE;\n",
              "        border: none;\n",
              "        border-radius: 50%;\n",
              "        cursor: pointer;\n",
              "        display: none;\n",
              "        fill: #1967D2;\n",
              "        height: 32px;\n",
              "        padding: 0 0 0 0;\n",
              "        width: 32px;\n",
              "      }\n",
              "\n",
              "      .colab-df-generate:hover {\n",
              "        background-color: #E2EBFA;\n",
              "        box-shadow: 0px 1px 2px rgba(60, 64, 67, 0.3), 0px 1px 3px 1px rgba(60, 64, 67, 0.15);\n",
              "        fill: #174EA6;\n",
              "      }\n",
              "\n",
              "      [theme=dark] .colab-df-generate {\n",
              "        background-color: #3B4455;\n",
              "        fill: #D2E3FC;\n",
              "      }\n",
              "\n",
              "      [theme=dark] .colab-df-generate:hover {\n",
              "        background-color: #434B5C;\n",
              "        box-shadow: 0px 1px 3px 1px rgba(0, 0, 0, 0.15);\n",
              "        filter: drop-shadow(0px 1px 2px rgba(0, 0, 0, 0.3));\n",
              "        fill: #FFFFFF;\n",
              "      }\n",
              "    </style>\n",
              "    <button class=\"colab-df-generate\" onclick=\"generateWithVariable('X')\"\n",
              "            title=\"Generate code using this dataframe.\"\n",
              "            style=\"display:none;\">\n",
              "\n",
              "  <svg xmlns=\"http://www.w3.org/2000/svg\" height=\"24px\"viewBox=\"0 0 24 24\"\n",
              "       width=\"24px\">\n",
              "    <path d=\"M7,19H8.4L18.45,9,17,7.55,7,17.6ZM5,21V16.75L18.45,3.32a2,2,0,0,1,2.83,0l1.4,1.43a1.91,1.91,0,0,1,.58,1.4,1.91,1.91,0,0,1-.58,1.4L9.25,21ZM18.45,9,17,7.55Zm-12,3A5.31,5.31,0,0,0,4.9,8.1,5.31,5.31,0,0,0,1,6.5,5.31,5.31,0,0,0,4.9,4.9,5.31,5.31,0,0,0,6.5,1,5.31,5.31,0,0,0,8.1,4.9,5.31,5.31,0,0,0,12,6.5,5.46,5.46,0,0,0,6.5,12Z\"/>\n",
              "  </svg>\n",
              "    </button>\n",
              "    <script>\n",
              "      (() => {\n",
              "      const buttonEl =\n",
              "        document.querySelector('#id_b690bb3a-47f0-4829-9ef7-df4666215ca2 button.colab-df-generate');\n",
              "      buttonEl.style.display =\n",
              "        google.colab.kernel.accessAllowed ? 'block' : 'none';\n",
              "\n",
              "      buttonEl.onclick = () => {\n",
              "        google.colab.notebook.generateWithVariable('X');\n",
              "      }\n",
              "      })();\n",
              "    </script>\n",
              "  </div>\n",
              "\n",
              "    </div>\n",
              "  </div>\n"
            ],
            "application/vnd.google.colaboratory.intrinsic+json": {
              "type": "dataframe",
              "variable_name": "X",
              "summary": "{\n  \"name\": \"X\",\n  \"rows\": 10,\n  \"fields\": [\n    {\n      \"column\": \"feature1\",\n      \"properties\": {\n        \"dtype\": \"number\",\n        \"std\": 3,\n        \"min\": 1,\n        \"max\": 10,\n        \"num_unique_values\": 10,\n        \"samples\": [\n          9,\n          2,\n          6\n        ],\n        \"semantic_type\": \"\",\n        \"description\": \"\"\n      }\n    },\n    {\n      \"column\": \"feature2\",\n      \"properties\": {\n        \"dtype\": \"number\",\n        \"std\": 3,\n        \"min\": 11,\n        \"max\": 20,\n        \"num_unique_values\": 10,\n        \"samples\": [\n          19,\n          12,\n          16\n        ],\n        \"semantic_type\": \"\",\n        \"description\": \"\"\n      }\n    }\n  ]\n}"
            }
          },
          "metadata": {}
        },
        {
          "output_type": "stream",
          "name": "stdout",
          "text": [
            "\n",
            "Scaled Data (Standardized):\n"
          ]
        },
        {
          "output_type": "display_data",
          "data": {
            "text/plain": [
              "   feature1  feature2\n",
              "0 -1.566699 -1.566699\n",
              "1 -1.218544 -1.218544\n",
              "2 -0.870388 -0.870388\n",
              "3 -0.522233 -0.522233\n",
              "4 -0.174078 -0.174078\n",
              "5  0.174078  0.174078\n",
              "6  0.522233  0.522233\n",
              "7  0.870388  0.870388\n",
              "8  1.218544  1.218544\n",
              "9  1.566699  1.566699"
            ],
            "text/html": [
              "\n",
              "  <div id=\"df-b28d7c61-d37d-498b-8b7b-7885d5676efd\" class=\"colab-df-container\">\n",
              "    <div>\n",
              "<style scoped>\n",
              "    .dataframe tbody tr th:only-of-type {\n",
              "        vertical-align: middle;\n",
              "    }\n",
              "\n",
              "    .dataframe tbody tr th {\n",
              "        vertical-align: top;\n",
              "    }\n",
              "\n",
              "    .dataframe thead th {\n",
              "        text-align: right;\n",
              "    }\n",
              "</style>\n",
              "<table border=\"1\" class=\"dataframe\">\n",
              "  <thead>\n",
              "    <tr style=\"text-align: right;\">\n",
              "      <th></th>\n",
              "      <th>feature1</th>\n",
              "      <th>feature2</th>\n",
              "    </tr>\n",
              "  </thead>\n",
              "  <tbody>\n",
              "    <tr>\n",
              "      <th>0</th>\n",
              "      <td>-1.566699</td>\n",
              "      <td>-1.566699</td>\n",
              "    </tr>\n",
              "    <tr>\n",
              "      <th>1</th>\n",
              "      <td>-1.218544</td>\n",
              "      <td>-1.218544</td>\n",
              "    </tr>\n",
              "    <tr>\n",
              "      <th>2</th>\n",
              "      <td>-0.870388</td>\n",
              "      <td>-0.870388</td>\n",
              "    </tr>\n",
              "    <tr>\n",
              "      <th>3</th>\n",
              "      <td>-0.522233</td>\n",
              "      <td>-0.522233</td>\n",
              "    </tr>\n",
              "    <tr>\n",
              "      <th>4</th>\n",
              "      <td>-0.174078</td>\n",
              "      <td>-0.174078</td>\n",
              "    </tr>\n",
              "    <tr>\n",
              "      <th>5</th>\n",
              "      <td>0.174078</td>\n",
              "      <td>0.174078</td>\n",
              "    </tr>\n",
              "    <tr>\n",
              "      <th>6</th>\n",
              "      <td>0.522233</td>\n",
              "      <td>0.522233</td>\n",
              "    </tr>\n",
              "    <tr>\n",
              "      <th>7</th>\n",
              "      <td>0.870388</td>\n",
              "      <td>0.870388</td>\n",
              "    </tr>\n",
              "    <tr>\n",
              "      <th>8</th>\n",
              "      <td>1.218544</td>\n",
              "      <td>1.218544</td>\n",
              "    </tr>\n",
              "    <tr>\n",
              "      <th>9</th>\n",
              "      <td>1.566699</td>\n",
              "      <td>1.566699</td>\n",
              "    </tr>\n",
              "  </tbody>\n",
              "</table>\n",
              "</div>\n",
              "    <div class=\"colab-df-buttons\">\n",
              "\n",
              "  <div class=\"colab-df-container\">\n",
              "    <button class=\"colab-df-convert\" onclick=\"convertToInteractive('df-b28d7c61-d37d-498b-8b7b-7885d5676efd')\"\n",
              "            title=\"Convert this dataframe to an interactive table.\"\n",
              "            style=\"display:none;\">\n",
              "\n",
              "  <svg xmlns=\"http://www.w3.org/2000/svg\" height=\"24px\" viewBox=\"0 -960 960 960\">\n",
              "    <path d=\"M120-120v-720h720v720H120Zm60-500h600v-160H180v160Zm220 220h160v-160H400v160Zm0 220h160v-160H400v160ZM180-400h160v-160H180v160Zm440 0h160v-160H620v160ZM180-180h160v-160H180v160Zm440 0h160v-160H620v160Z\"/>\n",
              "  </svg>\n",
              "    </button>\n",
              "\n",
              "  <style>\n",
              "    .colab-df-container {\n",
              "      display:flex;\n",
              "      gap: 12px;\n",
              "    }\n",
              "\n",
              "    .colab-df-convert {\n",
              "      background-color: #E8F0FE;\n",
              "      border: none;\n",
              "      border-radius: 50%;\n",
              "      cursor: pointer;\n",
              "      display: none;\n",
              "      fill: #1967D2;\n",
              "      height: 32px;\n",
              "      padding: 0 0 0 0;\n",
              "      width: 32px;\n",
              "    }\n",
              "\n",
              "    .colab-df-convert:hover {\n",
              "      background-color: #E2EBFA;\n",
              "      box-shadow: 0px 1px 2px rgba(60, 64, 67, 0.3), 0px 1px 3px 1px rgba(60, 64, 67, 0.15);\n",
              "      fill: #174EA6;\n",
              "    }\n",
              "\n",
              "    .colab-df-buttons div {\n",
              "      margin-bottom: 4px;\n",
              "    }\n",
              "\n",
              "    [theme=dark] .colab-df-convert {\n",
              "      background-color: #3B4455;\n",
              "      fill: #D2E3FC;\n",
              "    }\n",
              "\n",
              "    [theme=dark] .colab-df-convert:hover {\n",
              "      background-color: #434B5C;\n",
              "      box-shadow: 0px 1px 3px 1px rgba(0, 0, 0, 0.15);\n",
              "      filter: drop-shadow(0px 1px 2px rgba(0, 0, 0, 0.3));\n",
              "      fill: #FFFFFF;\n",
              "    }\n",
              "  </style>\n",
              "\n",
              "    <script>\n",
              "      const buttonEl =\n",
              "        document.querySelector('#df-b28d7c61-d37d-498b-8b7b-7885d5676efd button.colab-df-convert');\n",
              "      buttonEl.style.display =\n",
              "        google.colab.kernel.accessAllowed ? 'block' : 'none';\n",
              "\n",
              "      async function convertToInteractive(key) {\n",
              "        const element = document.querySelector('#df-b28d7c61-d37d-498b-8b7b-7885d5676efd');\n",
              "        const dataTable =\n",
              "          await google.colab.kernel.invokeFunction('convertToInteractive',\n",
              "                                                    [key], {});\n",
              "        if (!dataTable) return;\n",
              "\n",
              "        const docLinkHtml = 'Like what you see? Visit the ' +\n",
              "          '<a target=\"_blank\" href=https://colab.research.google.com/notebooks/data_table.ipynb>data table notebook</a>'\n",
              "          + ' to learn more about interactive tables.';\n",
              "        element.innerHTML = '';\n",
              "        dataTable['output_type'] = 'display_data';\n",
              "        await google.colab.output.renderOutput(dataTable, element);\n",
              "        const docLink = document.createElement('div');\n",
              "        docLink.innerHTML = docLinkHtml;\n",
              "        element.appendChild(docLink);\n",
              "      }\n",
              "    </script>\n",
              "  </div>\n",
              "\n",
              "\n",
              "    <div id=\"df-e9e22590-c1bc-4e56-84f2-9626144f0840\">\n",
              "      <button class=\"colab-df-quickchart\" onclick=\"quickchart('df-e9e22590-c1bc-4e56-84f2-9626144f0840')\"\n",
              "                title=\"Suggest charts\"\n",
              "                style=\"display:none;\">\n",
              "\n",
              "<svg xmlns=\"http://www.w3.org/2000/svg\" height=\"24px\"viewBox=\"0 0 24 24\"\n",
              "     width=\"24px\">\n",
              "    <g>\n",
              "        <path d=\"M19 3H5c-1.1 0-2 .9-2 2v14c0 1.1.9 2 2 2h14c1.1 0 2-.9 2-2V5c0-1.1-.9-2-2-2zM9 17H7v-7h2v7zm4 0h-2V7h2v10zm4 0h-2v-4h2v4z\"/>\n",
              "    </g>\n",
              "</svg>\n",
              "      </button>\n",
              "\n",
              "<style>\n",
              "  .colab-df-quickchart {\n",
              "      --bg-color: #E8F0FE;\n",
              "      --fill-color: #1967D2;\n",
              "      --hover-bg-color: #E2EBFA;\n",
              "      --hover-fill-color: #174EA6;\n",
              "      --disabled-fill-color: #AAA;\n",
              "      --disabled-bg-color: #DDD;\n",
              "  }\n",
              "\n",
              "  [theme=dark] .colab-df-quickchart {\n",
              "      --bg-color: #3B4455;\n",
              "      --fill-color: #D2E3FC;\n",
              "      --hover-bg-color: #434B5C;\n",
              "      --hover-fill-color: #FFFFFF;\n",
              "      --disabled-bg-color: #3B4455;\n",
              "      --disabled-fill-color: #666;\n",
              "  }\n",
              "\n",
              "  .colab-df-quickchart {\n",
              "    background-color: var(--bg-color);\n",
              "    border: none;\n",
              "    border-radius: 50%;\n",
              "    cursor: pointer;\n",
              "    display: none;\n",
              "    fill: var(--fill-color);\n",
              "    height: 32px;\n",
              "    padding: 0;\n",
              "    width: 32px;\n",
              "  }\n",
              "\n",
              "  .colab-df-quickchart:hover {\n",
              "    background-color: var(--hover-bg-color);\n",
              "    box-shadow: 0 1px 2px rgba(60, 64, 67, 0.3), 0 1px 3px 1px rgba(60, 64, 67, 0.15);\n",
              "    fill: var(--button-hover-fill-color);\n",
              "  }\n",
              "\n",
              "  .colab-df-quickchart-complete:disabled,\n",
              "  .colab-df-quickchart-complete:disabled:hover {\n",
              "    background-color: var(--disabled-bg-color);\n",
              "    fill: var(--disabled-fill-color);\n",
              "    box-shadow: none;\n",
              "  }\n",
              "\n",
              "  .colab-df-spinner {\n",
              "    border: 2px solid var(--fill-color);\n",
              "    border-color: transparent;\n",
              "    border-bottom-color: var(--fill-color);\n",
              "    animation:\n",
              "      spin 1s steps(1) infinite;\n",
              "  }\n",
              "\n",
              "  @keyframes spin {\n",
              "    0% {\n",
              "      border-color: transparent;\n",
              "      border-bottom-color: var(--fill-color);\n",
              "      border-left-color: var(--fill-color);\n",
              "    }\n",
              "    20% {\n",
              "      border-color: transparent;\n",
              "      border-left-color: var(--fill-color);\n",
              "      border-top-color: var(--fill-color);\n",
              "    }\n",
              "    30% {\n",
              "      border-color: transparent;\n",
              "      border-left-color: var(--fill-color);\n",
              "      border-top-color: var(--fill-color);\n",
              "      border-right-color: var(--fill-color);\n",
              "    }\n",
              "    40% {\n",
              "      border-color: transparent;\n",
              "      border-right-color: var(--fill-color);\n",
              "      border-top-color: var(--fill-color);\n",
              "    }\n",
              "    60% {\n",
              "      border-color: transparent;\n",
              "      border-right-color: var(--fill-color);\n",
              "    }\n",
              "    80% {\n",
              "      border-color: transparent;\n",
              "      border-right-color: var(--fill-color);\n",
              "      border-bottom-color: var(--fill-color);\n",
              "    }\n",
              "    90% {\n",
              "      border-color: transparent;\n",
              "      border-bottom-color: var(--fill-color);\n",
              "    }\n",
              "  }\n",
              "</style>\n",
              "\n",
              "      <script>\n",
              "        async function quickchart(key) {\n",
              "          const quickchartButtonEl =\n",
              "            document.querySelector('#' + key + ' button');\n",
              "          quickchartButtonEl.disabled = true;  // To prevent multiple clicks.\n",
              "          quickchartButtonEl.classList.add('colab-df-spinner');\n",
              "          try {\n",
              "            const charts = await google.colab.kernel.invokeFunction(\n",
              "                'suggestCharts', [key], {});\n",
              "          } catch (error) {\n",
              "            console.error('Error during call to suggestCharts:', error);\n",
              "          }\n",
              "          quickchartButtonEl.classList.remove('colab-df-spinner');\n",
              "          quickchartButtonEl.classList.add('colab-df-quickchart-complete');\n",
              "        }\n",
              "        (() => {\n",
              "          let quickchartButtonEl =\n",
              "            document.querySelector('#df-e9e22590-c1bc-4e56-84f2-9626144f0840 button');\n",
              "          quickchartButtonEl.style.display =\n",
              "            google.colab.kernel.accessAllowed ? 'block' : 'none';\n",
              "        })();\n",
              "      </script>\n",
              "    </div>\n",
              "\n",
              "  <div id=\"id_59c633a4-2912-4439-9722-be4ede95fbb4\">\n",
              "    <style>\n",
              "      .colab-df-generate {\n",
              "        background-color: #E8F0FE;\n",
              "        border: none;\n",
              "        border-radius: 50%;\n",
              "        cursor: pointer;\n",
              "        display: none;\n",
              "        fill: #1967D2;\n",
              "        height: 32px;\n",
              "        padding: 0 0 0 0;\n",
              "        width: 32px;\n",
              "      }\n",
              "\n",
              "      .colab-df-generate:hover {\n",
              "        background-color: #E2EBFA;\n",
              "        box-shadow: 0px 1px 2px rgba(60, 64, 67, 0.3), 0px 1px 3px 1px rgba(60, 64, 67, 0.15);\n",
              "        fill: #174EA6;\n",
              "      }\n",
              "\n",
              "      [theme=dark] .colab-df-generate {\n",
              "        background-color: #3B4455;\n",
              "        fill: #D2E3FC;\n",
              "      }\n",
              "\n",
              "      [theme=dark] .colab-df-generate:hover {\n",
              "        background-color: #434B5C;\n",
              "        box-shadow: 0px 1px 3px 1px rgba(0, 0, 0, 0.15);\n",
              "        filter: drop-shadow(0px 1px 2px rgba(0, 0, 0, 0.3));\n",
              "        fill: #FFFFFF;\n",
              "      }\n",
              "    </style>\n",
              "    <button class=\"colab-df-generate\" onclick=\"generateWithVariable('X_scaled_df')\"\n",
              "            title=\"Generate code using this dataframe.\"\n",
              "            style=\"display:none;\">\n",
              "\n",
              "  <svg xmlns=\"http://www.w3.org/2000/svg\" height=\"24px\"viewBox=\"0 0 24 24\"\n",
              "       width=\"24px\">\n",
              "    <path d=\"M7,19H8.4L18.45,9,17,7.55,7,17.6ZM5,21V16.75L18.45,3.32a2,2,0,0,1,2.83,0l1.4,1.43a1.91,1.91,0,0,1,.58,1.4,1.91,1.91,0,0,1-.58,1.4L9.25,21ZM18.45,9,17,7.55Zm-12,3A5.31,5.31,0,0,0,4.9,8.1,5.31,5.31,0,0,0,1,6.5,5.31,5.31,0,0,0,4.9,4.9,5.31,5.31,0,0,0,6.5,1,5.31,5.31,0,0,0,8.1,4.9,5.31,5.31,0,0,0,12,6.5,5.46,5.46,0,0,0,6.5,12Z\"/>\n",
              "  </svg>\n",
              "    </button>\n",
              "    <script>\n",
              "      (() => {\n",
              "      const buttonEl =\n",
              "        document.querySelector('#id_59c633a4-2912-4439-9722-be4ede95fbb4 button.colab-df-generate');\n",
              "      buttonEl.style.display =\n",
              "        google.colab.kernel.accessAllowed ? 'block' : 'none';\n",
              "\n",
              "      buttonEl.onclick = () => {\n",
              "        google.colab.notebook.generateWithVariable('X_scaled_df');\n",
              "      }\n",
              "      })();\n",
              "    </script>\n",
              "  </div>\n",
              "\n",
              "    </div>\n",
              "  </div>\n"
            ],
            "application/vnd.google.colaboratory.intrinsic+json": {
              "type": "dataframe",
              "variable_name": "X_scaled_df",
              "summary": "{\n  \"name\": \"X_scaled_df\",\n  \"rows\": 10,\n  \"fields\": [\n    {\n      \"column\": \"feature1\",\n      \"properties\": {\n        \"dtype\": \"number\",\n        \"std\": 1.0540925533894598,\n        \"min\": -1.5666989036012806,\n        \"max\": 1.5666989036012806,\n        \"num_unique_values\": 10,\n        \"samples\": [\n          1.2185435916898848,\n          -1.2185435916898848,\n          0.17407765595569785\n        ],\n        \"semantic_type\": \"\",\n        \"description\": \"\"\n      }\n    },\n    {\n      \"column\": \"feature2\",\n      \"properties\": {\n        \"dtype\": \"number\",\n        \"std\": 1.0540925533894598,\n        \"min\": -1.5666989036012806,\n        \"max\": 1.5666989036012806,\n        \"num_unique_values\": 10,\n        \"samples\": [\n          1.2185435916898848,\n          -1.2185435916898848,\n          0.17407765595569785\n        ],\n        \"semantic_type\": \"\",\n        \"description\": \"\"\n      }\n    }\n  ]\n}"
            }
          },
          "metadata": {}
        }
      ]
    },
    {
      "cell_type": "markdown",
      "source": [
        "Ques.23 What is sklearn.preprocessing?"
      ],
      "metadata": {
        "id": "mRQUX_WnaEWI"
      }
    },
    {
      "cell_type": "markdown",
      "source": [
        "Ans: sklearn.preprocessing is a module in the scikit-learn library that provides a wide range of functions and classes for data preprocessing. Data preprocessing is a crucial step in machine learning that involves transforming raw data into a format that is suitable for training machine learning models.\n",
        "\n",
        "The sklearn.preprocessing module includes tools for tasks such as:\n",
        "\n",
        "Scaling: Scaling features to a similar range (e.g., using StandardScaler or MinMaxScaler).\n",
        "Normalization: Normalizing data to a unit norm (e.g., using Normalizer).\n",
        "\n",
        "Encoding categorical features: Converting categorical variables into numerical representations (e.g., using OneHotEncoder or LabelEncoder).\n",
        "Imputation: Handling missing values (e.g., using SimpleImputer).\n",
        "\n",
        "Polynomial features: Generating polynomial features from existing features (e.g., using PolynomialFeatures).\n",
        "\n",
        "These preprocessing techniques can help improve the performance of machine learning models by ensuring that the data is in a consistent and appropriate format for the algorithms.\n",
        "\n"
      ],
      "metadata": {
        "id": "MkF6EcCOaJFA"
      }
    },
    {
      "cell_type": "markdown",
      "source": [
        "Ques.24 How do we split data for model fitting (training and testing) in Python?"
      ],
      "metadata": {
        "id": "l7vwZaraahgd"
      }
    },
    {
      "cell_type": "code",
      "metadata": {
        "colab": {
          "base_uri": "https://localhost:8080/"
        },
        "id": "71013e11",
        "outputId": "78b43b2a-c418-4c81-c9d5-63995280816a"
      },
      "source": [
        "from sklearn.model_selection import train_test_split\n",
        "import pandas as pd\n",
        "\n",
        "# Assuming you have a DataFrame named 'df' with your features (X) and target (y)\n",
        "# Replace this with your actual data loading and preparation\n",
        "data = {'feature1': [1, 2, 3, 4, 5, 6, 7, 8, 9, 10],\n",
        "        'feature2': [11, 12, 13, 14, 15, 16, 17, 18, 19, 20],\n",
        "        'target': [0, 1, 0, 1, 0, 1, 0, 1, 0, 1]}\n",
        "df = pd.DataFrame(data)\n",
        "\n",
        "X = df[['feature1', 'feature2']] # Your features\n",
        "y = df['target'] # Your target variable\n",
        "\n",
        "# Split the data into training and testing sets\n",
        "X_train, X_test, y_train, y_test = train_test_split(X, y, test_size=0.2, random_state=42)\n",
        "\n",
        "print(\"Training set shape (features):\", X_train.shape)\n",
        "print(\"Testing set shape (features):\", X_test.shape)\n",
        "print(\"Training set shape (target):\", y_train.shape)\n",
        "print(\"Testing set shape (target):\", y_test.shape)"
      ],
      "execution_count": 5,
      "outputs": [
        {
          "output_type": "stream",
          "name": "stdout",
          "text": [
            "Training set shape (features): (8, 2)\n",
            "Testing set shape (features): (2, 2)\n",
            "Training set shape (target): (8,)\n",
            "Testing set shape (target): (2,)\n"
          ]
        }
      ]
    },
    {
      "cell_type": "markdown",
      "source": [
        "Ques.25 Explain data encoding?"
      ],
      "metadata": {
        "id": "5v7PpRLCazNr"
      }
    },
    {
      "cell_type": "markdown",
      "source": [
        "Ans: Data encoding is the process of converting categorical data into a numerical format that machine learning algorithms can understand and process. Many machine learning algorithms require numerical input and cannot work directly with text or categorical values.\n",
        "\n",
        "There are several common techniques for data encoding, which we touched on earlier when discussing how to handle categorical variables:\n",
        "\n",
        "1. One-Hot Encoding: This is a widely used technique that creates new binary columns for each category in a feature. If a data point belongs to a specific category, the corresponding new column will have a value of 1, while all other new columns for that feature will be 0. This avoids implying any ordinal relationship between categories.\n",
        "\n",
        "2. Label Encoding: This method assigns a unique integer to each category. While simple, it can be problematic for some algorithms as it introduces an artificial order or ranking among categories, which might not exist in reality. It's generally suitable for ordinal categorical variables where there is a meaningful order (e.g., 'low', 'medium', 'high').\n",
        "\n",
        "3. Ordinal Encoding: Similar to label encoding, but specifically used when the categories have a natural order. You explicitly define the order of the categories when encoding.\n",
        "\n",
        "4. Target Encoding: This technique replaces each category with the mean of the target variable for that category. This can capture information about the relationship between the category and the target but can also be prone to overfitting if not used carefully."
      ],
      "metadata": {
        "id": "SABVrXWQbGvW"
      }
    }
  ]
}